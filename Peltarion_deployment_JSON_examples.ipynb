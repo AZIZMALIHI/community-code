{
 "cells": [
  {
   "cell_type": "code",
   "execution_count": 7,
   "metadata": {},
   "outputs": [],
   "source": [
    "import base64\n",
    "import os\n",
    "import requests"
   ]
  },
  {
   "cell_type": "markdown",
   "metadata": {},
   "source": [
    "This notebook shows some examples of how to call a model trained and deployed in the Peltarion platform from Python using JSON requests.\n",
    "\n",
    "The advantage of using JSON is that you can score several examples in a batch rather than one at a time as with curl or POST requests with forms."
   ]
  },
  {
   "cell_type": "markdown",
   "metadata": {},
   "source": [
    "## Image classification (single input, single output)\n",
    "\n",
    "We will hide the deployment URL and the authentication token for security reasons. You can substitute the values found on the Deployment page for the model we want to use.\n",
    "\n",
    "The following example assumes that you have a model trained on MNIST data (28x28 pixels, 3 color channels) and want to classify new images that the model has not seen."
   ]
  },
  {
   "cell_type": "code",
   "execution_count": 2,
   "metadata": {},
   "outputs": [],
   "source": [
    "url = ' -- insert the URL you find on the deployment page -- '\n",
    "token = ' -- insert the token you find on the deployment page --'"
   ]
  },
  {
   "cell_type": "markdown",
   "metadata": {},
   "source": [
    "The file called `three.png` can be found in the images folder of this repo.\n",
    "\n",
    "In order to feed the image to the deployment API, we need to encode it in base64 format and prepend a short string explaining what type of data it is."
   ]
  },
  {
   "cell_type": "code",
   "execution_count": 3,
   "metadata": {},
   "outputs": [],
   "source": [
    "img_file = \"images/three.png\"\n",
    "img_type = os.path.splitext(img_file)[-1][1:]\n",
    "with open(img_file, \"rb\") as image_file:\n",
    "    encoded_img = 'data:image/{};base64,'.format(img_type) + base64.b64encode(image_file.read()).decode('ascii')"
   ]
  },
  {
   "cell_type": "markdown",
   "metadata": {},
   "source": [
    "The structure of the JSON string that we will send is shown below. The \"rows\" key must always be present and its value is a list of strings that represent different examples that we want to classify. Each entry of the list contains a comma-separated set of key-value pairs where the key is the feature name and the value is the feature value (which will be a base64 string for images.)\n",
    "\n",
    "```\n",
    "  {\"rows\": \n",
    "  \t[{\"feature1\": \"value1\", \"feature2\": \"value2\"}, \n",
    "  \t {\"feature1\": \"value1\", \"feature2\": \"value2\"}\n",
    "  \t]\n",
    "  }\n",
    "```\n",
    "For the current example, we only have one example and one feature called \"Image\". (You can find the feature names on the deployment page.) The structure of the JSON will be fairly simple:\n",
    "\n",
    "```\n",
    "  {\"rows\": \n",
    "  \t[{\"Image\": \"<base64 encoded image>\"}]\n",
    "  }\n",
    "```"
   ]
  },
  {
   "cell_type": "code",
   "execution_count": 4,
   "metadata": {
    "scrolled": true
   },
   "outputs": [
    {
     "name": "stdout",
     "output_type": "stream",
     "text": [
      "{'rows': [{'Number': {'0': 1.172899e-12, '1': 1.904032e-23, '2': 1.0426288e-09, '3': 0.99999976, '4': 8.7458367e-32, '5': 2.2160087e-07, '6': 1.1102806e-25, '7': 8.750066e-19, '8': 9.540449e-19, '9': 6.100877e-09}}]}\n"
     ]
    }
   ],
   "source": [
    "payload = \"{\\\"rows\\\": [{\\\"Image\\\":\\\"\" + encoded_img + \"\\\"}]}\"\n",
    "headers = {\n",
    "    'Content-Type': \"application/json\",\n",
    "    'Authorization': \"Bearer {}\".format(token),\n",
    "    }\n",
    "\n",
    "response = requests.request(\"POST\", url, data=payload, headers=headers)\n",
    "\n",
    "print(response.json())"
   ]
  },
  {
   "cell_type": "markdown",
   "metadata": {},
   "source": [
    "### Classify several images"
   ]
  },
  {
   "cell_type": "markdown",
   "metadata": {},
   "source": [
    "To simplify our life, we might want to write a small function that encodes an image to base64 given a file path."
   ]
  },
  {
   "cell_type": "code",
   "execution_count": 4,
   "metadata": {},
   "outputs": [],
   "source": [
    "def encode_img(path):\n",
    "    img_type = os.path.splitext(path)[-1][1:]\n",
    "    with open(path, \"rb\") as image_file:\n",
    "        encoded_img = 'data:image/{};base64,'.format(img_type) + base64.b64encode(image_file.read()).decode('ascii')\n",
    "    return encoded_img"
   ]
  },
  {
   "cell_type": "markdown",
   "metadata": {},
   "source": [
    "Now we can classify a batch of images (in this case just two, but it would work with a much larger batch too.)"
   ]
  },
  {
   "cell_type": "code",
   "execution_count": 7,
   "metadata": {},
   "outputs": [],
   "source": [
    "img_files = ['images/three.png', 'images/Six.png']\n",
    "encoded_imgs = [encode_img(f) for f in img_files]\n",
    "input_batch = ','.join([\"{\\\"Image\\\":\\\"\" + encoded_img + \"\\\"}\" for encoded_img in encoded_imgs])\n",
    "payload = \"{\\\"rows\\\": [\" + input_batch + \"]}\""
   ]
  },
  {
   "cell_type": "code",
   "execution_count": 8,
   "metadata": {},
   "outputs": [
    {
     "data": {
      "text/plain": [
       "{'rows': [{'Number': {'0': 1.1729013e-12,\n",
       "    '1': 1.904032e-23,\n",
       "    '2': 1.0426308e-09,\n",
       "    '3': 0.99999976,\n",
       "    '4': 8.7458367e-32,\n",
       "    '5': 2.2160044e-07,\n",
       "    '6': 1.1102806e-25,\n",
       "    '7': 8.750066e-19,\n",
       "    '8': 9.540412e-19,\n",
       "    '9': 6.100854e-09}},\n",
       "  {'Number': {'0': 9.634732e-05,\n",
       "    '1': 8.909446e-09,\n",
       "    '2': 3.8414715e-08,\n",
       "    '3': 1.0719662e-05,\n",
       "    '4': 7.3074455e-07,\n",
       "    '5': 0.0041560247,\n",
       "    '6': 0.9956968,\n",
       "    '7': 8.453612e-08,\n",
       "    '8': 1.8743322e-05,\n",
       "    '9': 2.0451373e-05}}]}"
      ]
     },
     "execution_count": 8,
     "metadata": {},
     "output_type": "execute_result"
    }
   ],
   "source": [
    "response = requests.request(\"POST\", url, data=payload, headers=headers)\n",
    "response.json()"
   ]
  },
  {
   "cell_type": "markdown",
   "metadata": {},
   "source": [
    "## Tabular data (multiple numeric inputs)\n",
    "\n",
    "This example assumes that we have trained a model on the California housing dataset, where we try to predict latitude from some numeric features."
   ]
  },
  {
   "cell_type": "code",
   "execution_count": 9,
   "metadata": {},
   "outputs": [],
   "source": [
    "url = ' -- insert the URL you find on the deployment page -- '\n",
    "token = ' -- insert the token you find on the deployment page --'"
   ]
  },
  {
   "cell_type": "markdown",
   "metadata": {},
   "source": [
    "We can define a short utility function to construct a row for a training example in the right format."
   ]
  },
  {
   "cell_type": "code",
   "execution_count": 16,
   "metadata": {},
   "outputs": [],
   "source": [
    "def input_row(input_params):\n",
    "    return '{' + ','.join([\"\\\"\" + name + \"\\\":\" + value for (name, value) in input_params.items()]) + '}'"
   ]
  },
  {
   "cell_type": "code",
   "execution_count": 17,
   "metadata": {},
   "outputs": [],
   "source": [
    "ex1 = {\n",
    "\"population\": \"1551.0\",\n",
    "\"totalBedrooms\": \"434.0\",\n",
    "\"totalRooms\": \"2202.0\",\n",
    "\"housingMedianAge\": \"52.0\",\n",
    "\"medianHouseValue\": \"261100.0\",\n",
    "\"medianIncome\": \"3.12\",\n",
    "\"households\": \"514.0\"\n",
    "}\n",
    "\n",
    "ex2 = {\n",
    "\"population\": \"3551.0\",\n",
    "\"totalBedrooms\": \"834.0\",\n",
    "\"totalRooms\": \"2902.0\",\n",
    "\"housingMedianAge\": \"76.0\",\n",
    "\"medianHouseValue\": \"111100.0\",\n",
    "\"medianIncome\": \"2.12\",\n",
    "\"households\": \"1000.0\"\n",
    "}\n",
    "\n",
    "examples = [ex1, ex2]\n",
    "input_batch = ','.join([input_row(ex) for ex in examples])\n",
    "payload = \"{\\\"rows\\\": [\" + input_batch + \"]}\""
   ]
  },
  {
   "cell_type": "code",
   "execution_count": 18,
   "metadata": {},
   "outputs": [
    {
     "data": {
      "text/plain": [
       "'{\"rows\": [{\"population\":1551.0,\"totalBedrooms\":434.0,\"totalRooms\":2202.0,\"housingMedianAge\":52.0,\"medianHouseValue\":261100.0,\"medianIncome\":3.12,\"households\":514.0},{\"population\":3551.0,\"totalBedrooms\":834.0,\"totalRooms\":2902.0,\"housingMedianAge\":76.0,\"medianHouseValue\":111100.0,\"medianIncome\":2.12,\"households\":1000.0}]}'"
      ]
     },
     "execution_count": 18,
     "metadata": {},
     "output_type": "execute_result"
    }
   ],
   "source": [
    "payload"
   ]
  },
  {
   "cell_type": "code",
   "execution_count": 19,
   "metadata": {},
   "outputs": [
    {
     "name": "stdout",
     "output_type": "stream",
     "text": [
      "{'rows': [{'latitude': 37.7944}, {'latitude': 37.922215}]}\n"
     ]
    }
   ],
   "source": [
    "headers = {\n",
    "    'Content-Type': \"application/json\",\n",
    "    'Authorization': \"Bearer {}\".format(token),\n",
    "    }\n",
    "\n",
    "response = requests.request(\"POST\", url, data=payload, headers=headers)\n",
    "\n",
    "print(response.json())"
   ]
  },
  {
   "cell_type": "markdown",
   "metadata": {},
   "source": [
    "## Images and tabular data\n",
    "\n",
    "This is also a model of the California housing data, but with Google maps images added as an input and where we are instead predicting the mean house value."
   ]
  },
  {
   "cell_type": "code",
   "execution_count": 22,
   "metadata": {},
   "outputs": [],
   "source": [
    "url = ' -- insert the URL you find on the deployment page -- '\n",
    "token = ' -- insert the token you find on the deployment page --'"
   ]
  },
  {
   "cell_type": "markdown",
   "metadata": {},
   "source": [
    "### Encode images\n",
    "\n",
    "We will re-use the `encode_imgs()` function defined above here."
   ]
  },
  {
   "cell_type": "code",
   "execution_count": 23,
   "metadata": {},
   "outputs": [],
   "source": [
    "img_files = ['images/15_5256_12656.png', 'images/15_5258_12653.png']\n",
    "encoded_imgs = [encode_img(f) for f in img_files]"
   ]
  },
  {
   "cell_type": "markdown",
   "metadata": {},
   "source": [
    "We can now populate the examples with numerical values and encoded images."
   ]
  },
  {
   "cell_type": "code",
   "execution_count": 24,
   "metadata": {},
   "outputs": [
    {
     "name": "stdout",
     "output_type": "stream",
     "text": [
      "{'rows': [{'medianHouseValue': 204714.05}, {'medianHouseValue': 298926.44}]}\n"
     ]
    }
   ],
   "source": [
    "ex1 = {\n",
    "\"population\": \"1551.0\",\n",
    "\"totalBedrooms\": \"434.0\",\n",
    "\"totalRooms\": \"2202.0\",\n",
    "\"housingMedianAge\": \"52.0\",\n",
    "\"medianIncome\": \"3.12\",\n",
    "\"households\": \"514.0\",\n",
    "\"image_path\": \"\\\"\" + encoded_imgs[0] + \"\\\"\",\n",
    "\"latitude\": \"37.88\",\n",
    "\"longitude\": \"-122.25\"\n",
    "}\n",
    "\n",
    "ex2 = {\n",
    "\"population\": \"3551.0\",\n",
    "\"totalBedrooms\": \"834.0\",\n",
    "\"totalRooms\": \"2902.0\",\n",
    "\"housingMedianAge\": \"76.0\",\n",
    "\"medianIncome\": \"2.12\",\n",
    "\"households\": \"1000.0\",\n",
    "\"image_path\": \"\\\"\" + encoded_imgs[1] + \"\\\"\",\n",
    "\"latitude\": \"37.88\",\n",
    "\"longitude\": \"-122.25\"\n",
    "}\n",
    "\n",
    "examples = [ex1,ex2]\n",
    "input_batch = ','.join([input_row(ex) for ex in examples])\n",
    "payload = \"{\\\"rows\\\": [\" + input_batch + \"]}\"\n",
    "headers = {\n",
    "    'Content-Type': \"application/json\",\n",
    "    'Authorization': \"Bearer {}\".format(token),\n",
    "    }\n",
    "\n",
    "response = requests.request(\"POST\", url, data=payload, headers=headers)\n",
    "\n",
    "print(response.json())"
   ]
  },
  {
   "cell_type": "markdown",
   "metadata": {},
   "source": [
    "## Image to image\n",
    "\n",
    "Here we will send two images to a deployment and get two images back. The images come from the NoisyOffice dataset (https://archive.ics.uci.edu/ml/datasets/NoisyOffice) where the task is to clean images from stains and other imperfections."
   ]
  },
  {
   "cell_type": "code",
   "execution_count": 5,
   "metadata": {},
   "outputs": [],
   "source": [
    "url = ' -- insert the URL you find on the deployment page -- '\n",
    "token = ' -- insert the token you find on the deployment page --'"
   ]
  },
  {
   "cell_type": "code",
   "execution_count": 8,
   "metadata": {},
   "outputs": [],
   "source": [
    "img_files = ['images/FontLrm_Noisec_TE.png', 'images/FontLrm_Noisew_TE.png']\n",
    "encoded_imgs = [encode_img(f) for f in img_files]\n",
    "input_batch = ','.join([\"{\\\"path_noisy\\\":\\\"\" + encoded_img + \"\\\"}\" for encoded_img in encoded_imgs])\n",
    "payload = \"{\\\"rows\\\": [\" + input_batch + \"]}\"\n",
    "headers = {\n",
    "    'Content-Type': \"application/json\",\n",
    "    'Authorization': \"Bearer {}\".format(token),\n",
    "    }\n",
    "\n",
    "response = requests.request(\"POST\", url, data=payload, headers=headers)"
   ]
  },
  {
   "cell_type": "code",
   "execution_count": 9,
   "metadata": {},
   "outputs": [],
   "source": [
    "results = response.json()['rows']"
   ]
  },
  {
   "cell_type": "markdown",
   "metadata": {},
   "source": [
    "Now you can, for example, save the generated images to file."
   ]
  },
  {
   "cell_type": "code",
   "execution_count": 10,
   "metadata": {},
   "outputs": [],
   "source": [
    "for i, res in enumerate(results):\n",
    "    decoded = base64.b64decode(res['path_clean'].split(',')[-1])\n",
    "    with open('images/image{}.png'.format(i), 'bw') as outf:\n",
    "        outf.write(decoded)"
   ]
  }
 ],
 "metadata": {
  "kernelspec": {
   "display_name": "Python 3",
   "language": "python",
   "name": "python3"
  },
  "language_info": {
   "codemirror_mode": {
    "name": "ipython",
    "version": 3
   },
   "file_extension": ".py",
   "mimetype": "text/x-python",
   "name": "python",
   "nbconvert_exporter": "python",
   "pygments_lexer": "ipython3",
   "version": "3.6.6"
  },
  "toc": {
   "base_numbering": 1,
   "nav_menu": {},
   "number_sections": true,
   "sideBar": true,
   "skip_h1_title": false,
   "title_cell": "Table of Contents",
   "title_sidebar": "Contents",
   "toc_cell": false,
   "toc_position": {},
   "toc_section_display": true,
   "toc_window_display": false
  }
 },
 "nbformat": 4,
 "nbformat_minor": 2
}

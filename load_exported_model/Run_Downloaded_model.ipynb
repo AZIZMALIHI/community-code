{
 "cells": [
  {
   "cell_type": "markdown",
   "metadata": {},
   "source": [
    "## Run a downloaded Keras model\n",
    "Here is a note on using an exported keras model in a notebook. It's not especially helpful yet for models exported from the platform, but perhaps it's of use to you anyway."
   ]
  },
  {
   "cell_type": "code",
   "execution_count": 1,
   "metadata": {},
   "outputs": [
    {
     "name": "stderr",
     "output_type": "stream",
     "text": [
      "/anaconda3/lib/python3.6/site-packages/h5py/__init__.py:36: FutureWarning: Conversion of the second argument of issubdtype from `float` to `np.floating` is deprecated. In future, it will be treated as `np.float64 == np.dtype(float).type`.\n",
      "  from ._conv import register_converters as _register_converters\n"
     ]
    }
   ],
   "source": [
    "import os\n",
    "import numpy as np\n",
    "from PIL import Image\n",
    "from tensorflow.keras.models import load_model\n",
    "from matplotlib.pyplot import imshow"
   ]
  },
  {
   "cell_type": "code",
   "execution_count": 2,
   "metadata": {},
   "outputs": [
    {
     "data": {
      "text/plain": [
       "<matplotlib.image.AxesImage at 0x1118f8c18>"
      ]
     },
     "execution_count": 2,
     "metadata": {},
     "output_type": "execute_result"
    },
    {
     "data": {
      "image/png": "[encoded data removed]",
      "text/plain": [
       "<Figure size 432x288 with 1 Axes>"
      ]
     },
     "metadata": {},
     "output_type": "display_data"
    }
   ],
   "source": [
    "# Load model from disk. Replace /YOUR_PATH/model.h5\n",
    "model_path = 'mnist-rgb-cnn.h5'\n",
    "model = load_model(model_path, compile=False)\n",
    "\n",
    "# Load example image from disk\n",
    "img_path='img_5363.png'\n",
    "img = np.array(Image.open(img_path))\n",
    "\n",
    "%matplotlib inline\n",
    "showme = Image.open(img_path, 'r')\n",
    "imshow(np.asarray(showme))"
   ]
  },
  {
   "cell_type": "code",
   "execution_count": 3,
   "metadata": {},
   "outputs": [
    {
     "name": "stdout",
     "output_type": "stream",
     "text": [
      "_________________________________________________________________\n",
      "Layer (type)                 Output Shape              Param #   \n",
      "=================================================================\n",
      "uda161136-64ce-4e01-92a5-681 (None, 28, 28, 3)         0         \n",
      "_________________________________________________________________\n",
      "ud2551994-4493-4bc4-bd02-3d8 (None, 28, 28, 64)        1792      \n",
      "_________________________________________________________________\n",
      "uea94485f-9768-4555-96c3-174 (None, 14, 14, 64)        0         \n",
      "_________________________________________________________________\n",
      "u66f5b13e-c031-4231-9031-baf (None, 14, 14, 64)        256       \n",
      "_________________________________________________________________\n",
      "u823271db-97c4-489f-9c2e-393 (None, 14, 14, 128)       73856     \n",
      "_________________________________________________________________\n",
      "u5f8e8238-4b62-4b88-9324-1fc (None, 128)               0         \n",
      "_________________________________________________________________\n",
      "uae7cfbe0-9176-447b-a544-d89 (None, 128)               512       \n",
      "_________________________________________________________________\n",
      "u4802802f-8eb0-4a7c-91cc-ede (None, 512)               66048     \n",
      "_________________________________________________________________\n",
      "ucb7dfa12-7614-44b0-b6d1-fcc (None, 10)                5130      \n",
      "_________________________________________________________________\n",
      "ud04196a9-86eb-4c7b-b101-bd0 (None, 10)                0         \n",
      "=================================================================\n",
      "Total params: 147,594\n",
      "Trainable params: 147,210\n",
      "Non-trainable params: 384\n",
      "_________________________________________________________________\n"
     ]
    }
   ],
   "source": [
    "model.summary()"
   ]
  },
  {
   "cell_type": "code",
   "execution_count": 4,
   "metadata": {},
   "outputs": [],
   "source": [
    "# Use BGR channel ordering. This is not to be done if using cv2 to load the image.\n",
    "img = img[:, :, ::-1]\n",
    "# Normalize image\n",
    "img = img / 255\n",
    "# Add outer shape 1, for batch size\n",
    "img = img.reshape((1,img.shape[0],img.shape[1],img.shape[2]))"
   ]
  },
  {
   "cell_type": "code",
   "execution_count": 5,
   "metadata": {},
   "outputs": [
    {
     "data": {
      "text/plain": [
       "array([[6.0543658e-05, 5.6469318e-04, 2.0139185e-01, 1.2853633e-04,\n",
       "        8.9068337e-08, 7.9409611e-01, 1.3357296e-03, 3.9497405e-07,\n",
       "        1.9779061e-03, 4.4424669e-04]], dtype=float32)"
      ]
     },
     "execution_count": 5,
     "metadata": {},
     "output_type": "execute_result"
    }
   ],
   "source": [
    "# Run model\n",
    "model.predict(img)"
   ]
  },
  {
   "cell_type": "markdown",
   "metadata": {},
   "source": [
    "So here you see the \"result\" although without a way to map back to the original labels, it is not too useful yet.\n",
    "There is a html/js implementtion you can quickly look at if you'd like:\n",
    "\n",
    "https://storage.googleapis.com/bucket-8732/demo/image-classifier/classifier.html\n",
    "\n",
    "`URL: https://a.peltarion.com/deployment/7ebd6366-16fb-48be-9426-bc03514621b7/forward`\n",
    "\n",
    "`Token: 05b3f82e-080b-4194-b0c9-b0732ec92cbc`\n",
    "\n",
    "Remember to add \"Image\" and \"Width 28\" \"Height 28\" to match the model inputs above"
   ]
  },
  {
   "cell_type": "code",
   "execution_count": null,
   "metadata": {},
   "outputs": [],
   "source": []
  }
 ],
 "metadata": {
  "kernelspec": {
   "display_name": "Python 3",
   "language": "python",
   "name": "python3"
  },
  "language_info": {
   "codemirror_mode": {
    "name": "ipython",
    "version": 3
   },
   "file_extension": ".py",
   "mimetype": "text/x-python",
   "name": "python",
   "nbconvert_exporter": "python",
   "pygments_lexer": "ipython3",
   "version": "3.6.4"
  }
 },
 "nbformat": 4,
 "nbformat_minor": 2
}

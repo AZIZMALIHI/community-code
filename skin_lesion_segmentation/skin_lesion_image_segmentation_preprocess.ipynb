{
 "cells": [
  {
   "cell_type": "markdown",
   "metadata": {},
   "source": [
    "## Create dataset bundle"
   ]
  },
  {
   "cell_type": "markdown",
   "metadata": {},
   "source": [
    "This notebook will create the dataset bundle for the Skin lesion tutorial in Knowledge Center.\n",
    "\n",
    "Download the training data and ground truth for the segmentation task from the __[competition site](https://challenge.kitware.com/#phase/5abcb19a56357d0139260e53)__ or via the links below:\n",
    "\n",
    "* https://storage.googleapis.com/bucket-8732/SkinLesionSegmentation/ISIC2018_Task1-2_Training_Input.zip\n",
    "* https://storage.googleapis.com/bucket-8732/SkinLesionSegmentation/ISIC2018_Task1_Training_GroundTruth.zip"
   ]
  },
  {
   "cell_type": "code",
   "execution_count": 4,
   "metadata": {},
   "outputs": [],
   "source": [
    "import functools\n",
    "from glob import glob\n",
    "import os\n",
    "\n",
    "import pandas as pd\n",
    "import sidekick\n",
    "from sklearn.model_selection import train_test_split"
   ]
  },
  {
   "cell_type": "markdown",
   "metadata": {},
   "source": [
    "---\n",
    "**NOTE!** \n",
    "\n",
    "For information about how to install sidekick, see https://github.com/Peltarion/sidekick\n",
    "\n",
    "---\n"
   ]
  },
  {
   "cell_type": "code",
   "execution_count": 11,
   "metadata": {},
   "outputs": [],
   "source": [
    "input_path = '.'\n",
    "output_path = './data.zip'"
   ]
  },
  {
   "cell_type": "code",
   "execution_count": 6,
   "metadata": {},
   "outputs": [
    {
     "name": "stdout",
     "output_type": "stream",
     "text": [
      "Training images: 2594, Ground Truth: 2594\n"
     ]
    }
   ],
   "source": [
    "tr_images_rel_path = glob(input_path + '/ISIC2018_Task1-2_Training_Input/*.jpg')\n",
    "gt_images_rel_path = glob(input_path + '/ISIC2018_Task1_Training_GroundTruth/*.png')\n",
    "print('Training images: {}, Ground Truth: {}'.format(len(tr_images_rel_path), len(gt_images_rel_path)))"
   ]
  },
  {
   "cell_type": "code",
   "execution_count": 3,
   "metadata": {},
   "outputs": [
    {
     "name": "stdout",
     "output_type": "stream",
     "text": [
      "Training images: 0, Ground Truth: 0\n"
     ]
    }
   ],
   "source": [
    "tr_images_rel_path = sorted(glob(os.path.join('*Training_Input*', '*.jpg')))\n",
    "gt_images_rel_path = sorted(glob(os.path.join('*GroundTruth', '*.png')))\n",
    "print('Training images: {}, Ground Truth: {}'.format(len(tr_images_rel_path), len(gt_images_rel_path)))"
   ]
  },
  {
   "cell_type": "code",
   "execution_count": 7,
   "metadata": {},
   "outputs": [],
   "source": [
    "df = pd.DataFrame({'image': tr_images_rel_path, 'mask': gt_images_rel_path})"
   ]
  },
  {
   "cell_type": "code",
   "execution_count": 8,
   "metadata": {},
   "outputs": [
    {
     "name": "stdout",
     "output_type": "stream",
     "text": [
      "Training samples: 2075\n",
      "Validation samples: 519\n"
     ]
    }
   ],
   "source": [
    "def create_subsets(df):\n",
    "    train_data, validate_data = train_test_split(df, test_size=0.20, random_state=42)\n",
    "    print('Training samples: ' + str(len(train_data.values)))\n",
    "    print('Validation samples: ' + str(len(validate_data.values)))\n",
    "    train_data.insert(loc=2, column='subset', value='T')\n",
    "    validate_data.insert(loc=2, column='subset', value='V')\n",
    "    return train_data.append(validate_data, ignore_index=True)\n",
    "\n",
    "df = create_subsets(df)"
   ]
  },
  {
   "cell_type": "code",
   "execution_count": 9,
   "metadata": {},
   "outputs": [
    {
     "data": {
      "text/html": [
       "<div>\n",
       "<style scoped>\n",
       "    .dataframe tbody tr th:only-of-type {\n",
       "        vertical-align: middle;\n",
       "    }\n",
       "\n",
       "    .dataframe tbody tr th {\n",
       "        vertical-align: top;\n",
       "    }\n",
       "\n",
       "    .dataframe thead th {\n",
       "        text-align: right;\n",
       "    }\n",
       "</style>\n",
       "<table border=\"1\" class=\"dataframe\">\n",
       "  <thead>\n",
       "    <tr style=\"text-align: right;\">\n",
       "      <th></th>\n",
       "      <th>image</th>\n",
       "      <th>mask</th>\n",
       "      <th>subset</th>\n",
       "    </tr>\n",
       "  </thead>\n",
       "  <tbody>\n",
       "    <tr>\n",
       "      <th>0</th>\n",
       "      <td>/Users/joakim/rep/ham10k_tutorial/ISIC2018_Tas...</td>\n",
       "      <td>/Users/joakim/rep/ham10k_tutorial/ISIC2018_Tas...</td>\n",
       "      <td>T</td>\n",
       "    </tr>\n",
       "    <tr>\n",
       "      <th>1</th>\n",
       "      <td>/Users/joakim/rep/ham10k_tutorial/ISIC2018_Tas...</td>\n",
       "      <td>/Users/joakim/rep/ham10k_tutorial/ISIC2018_Tas...</td>\n",
       "      <td>T</td>\n",
       "    </tr>\n",
       "    <tr>\n",
       "      <th>2</th>\n",
       "      <td>/Users/joakim/rep/ham10k_tutorial/ISIC2018_Tas...</td>\n",
       "      <td>/Users/joakim/rep/ham10k_tutorial/ISIC2018_Tas...</td>\n",
       "      <td>T</td>\n",
       "    </tr>\n",
       "    <tr>\n",
       "      <th>3</th>\n",
       "      <td>/Users/joakim/rep/ham10k_tutorial/ISIC2018_Tas...</td>\n",
       "      <td>/Users/joakim/rep/ham10k_tutorial/ISIC2018_Tas...</td>\n",
       "      <td>T</td>\n",
       "    </tr>\n",
       "    <tr>\n",
       "      <th>4</th>\n",
       "      <td>/Users/joakim/rep/ham10k_tutorial/ISIC2018_Tas...</td>\n",
       "      <td>/Users/joakim/rep/ham10k_tutorial/ISIC2018_Tas...</td>\n",
       "      <td>T</td>\n",
       "    </tr>\n",
       "  </tbody>\n",
       "</table>\n",
       "</div>"
      ],
      "text/plain": [
       "                                               image  \\\n",
       "0  /Users/joakim/rep/ham10k_tutorial/ISIC2018_Tas...   \n",
       "1  /Users/joakim/rep/ham10k_tutorial/ISIC2018_Tas...   \n",
       "2  /Users/joakim/rep/ham10k_tutorial/ISIC2018_Tas...   \n",
       "3  /Users/joakim/rep/ham10k_tutorial/ISIC2018_Tas...   \n",
       "4  /Users/joakim/rep/ham10k_tutorial/ISIC2018_Tas...   \n",
       "\n",
       "                                                mask subset  \n",
       "0  /Users/joakim/rep/ham10k_tutorial/ISIC2018_Tas...      T  \n",
       "1  /Users/joakim/rep/ham10k_tutorial/ISIC2018_Tas...      T  \n",
       "2  /Users/joakim/rep/ham10k_tutorial/ISIC2018_Tas...      T  \n",
       "3  /Users/joakim/rep/ham10k_tutorial/ISIC2018_Tas...      T  \n",
       "4  /Users/joakim/rep/ham10k_tutorial/ISIC2018_Tas...      T  "
      ]
     },
     "execution_count": 9,
     "metadata": {},
     "output_type": "execute_result"
    }
   ],
   "source": [
    "df.head(5)"
   ]
  },
  {
   "cell_type": "code",
   "execution_count": 10,
   "metadata": {},
   "outputs": [],
   "source": [
    "# Create preprocessor for images, cropping to specified size\n",
    "image_processor = functools.partial(sidekick.process_image, mode='resize', size=(64, 64), file_format='png')\n",
    "\n",
    "# Create dataset\n",
    "sidekick.create_dataset(\n",
    "    output_path,\n",
    "    df,\n",
    "    path_columns=['image','mask'],\n",
    "    preprocess={\n",
    "        'image': image_processor,\n",
    "        'mask': image_processor\n",
    "    }\n",
    ")"
   ]
  }
 ],
 "metadata": {
  "kernelspec": {
   "display_name": "Python 3",
   "language": "python",
   "name": "python3"
  },
  "language_info": {
   "codemirror_mode": {
    "name": "ipython",
    "version": 3
   },
   "file_extension": ".py",
   "mimetype": "text/x-python",
   "name": "python",
   "nbconvert_exporter": "python",
   "pygments_lexer": "ipython3",
   "version": "3.7.1"
  }
 },
 "nbformat": 4,
 "nbformat_minor": 2
}

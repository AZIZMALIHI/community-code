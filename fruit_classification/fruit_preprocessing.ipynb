{
 "cells": [
  {
   "cell_type": "markdown",
   "metadata": {},
   "source": [
    "# Fruit-360 preprocessor\n",
    "This notebook will prepare the fruit-360 dataset for the Peltarion platform.\n",
    "\n",
    "Two versions of the dataset will be prepared:\n",
    "\n",
    "1) A reduced version with fewer images in the 'Apple Granny Smith' class\n",
    "\n",
    "2) A complete version with all images included\n",
    "\n",
    "**Note**: This notebook requires installation of Sidekick. To install the package within the notebook, run the following code:\n",
    "\n",
    "import sys !{sys.executable} -m pip install git+https://github.com/Peltarion/sidekick#egg=sidekick\n",
    "\n",
    "For more information about Sidekick, see: https://github.com/Peltarion/sidekick\n",
    "\n",
    "The raw dataset is available at: https://storage.googleapis.com/bucket-8732/Fruits/fruits.zip\n",
    "\n",
    "Third party terms apply, see: https://github.com/Horea94/Fruit-Images-Dataset/blob/master/LICENSE"
   ]
  },
  {
   "cell_type": "code",
   "execution_count": 1,
   "metadata": {},
   "outputs": [],
   "source": [
    "import functools\n",
    "import os\n",
    "from glob import glob\n",
    "import resource\n",
    "\n",
    "import pandas as pd\n",
    "from PIL import Image\n",
    "import sidekick\n",
    "from tqdm import tqdm"
   ]
  },
  {
   "cell_type": "markdown",
   "metadata": {},
   "source": [
    "## Setup"
   ]
  },
  {
   "cell_type": "markdown",
   "metadata": {},
   "source": [
    "### Paths"
   ]
  },
  {
   "cell_type": "code",
   "execution_count": 20,
   "metadata": {},
   "outputs": [],
   "source": [
    "# Raw dataset\n",
    "input_path = './fruits-360/Training'\n",
    "# Zip output\n",
    "output_path = './data_complete.zip'\n",
    "output_path_reduced = './data_reduced.zip'"
   ]
  },
  {
   "cell_type": "markdown",
   "metadata": {},
   "source": [
    "### Progress bar for Pandas"
   ]
  },
  {
   "cell_type": "code",
   "execution_count": 12,
   "metadata": {},
   "outputs": [],
   "source": [
    "tqdm.pandas()"
   ]
  },
  {
   "cell_type": "markdown",
   "metadata": {},
   "source": [
    "### Get list of image paths"
   ]
  },
  {
   "cell_type": "code",
   "execution_count": 13,
   "metadata": {},
   "outputs": [
    {
     "name": "stdout",
     "output_type": "stream",
     "text": [
      "Images found:  53177\n"
     ]
    }
   ],
   "source": [
    "images_path = glob(input_path + '/*/*.jpg') + glob(input_path + '/*/*.png')\n",
    "print(\"Images found: \", len(images_path))"
   ]
  },
  {
   "cell_type": "markdown",
   "metadata": {},
   "source": [
    "## Create Dataframe\n",
    "The class column values are derived from the names of the subfolders in the `input_path`.\n",
    "\n",
    "The image column contains the relative path to the images in the subfolders."
   ]
  },
  {
   "cell_type": "code",
   "execution_count": 14,
   "metadata": {},
   "outputs": [
    {
     "name": "stderr",
     "output_type": "stream",
     "text": [
      "100%|██████████| 53177/53177 [00:00<00:00, 323553.78it/s]\n"
     ]
    },
    {
     "data": {
      "text/html": [
       "<div>\n",
       "<style scoped>\n",
       "    .dataframe tbody tr th:only-of-type {\n",
       "        vertical-align: middle;\n",
       "    }\n",
       "\n",
       "    .dataframe tbody tr th {\n",
       "        vertical-align: top;\n",
       "    }\n",
       "\n",
       "    .dataframe thead th {\n",
       "        text-align: right;\n",
       "    }\n",
       "</style>\n",
       "<table border=\"1\" class=\"dataframe\">\n",
       "  <thead>\n",
       "    <tr style=\"text-align: right;\">\n",
       "      <th></th>\n",
       "      <th>image</th>\n",
       "      <th>fruit_class</th>\n",
       "    </tr>\n",
       "  </thead>\n",
       "  <tbody>\n",
       "    <tr>\n",
       "      <th>0</th>\n",
       "      <td>/Users/joakim/tmp/fruits_wt/fruits-360/Trainin...</td>\n",
       "      <td>Tomato 4</td>\n",
       "    </tr>\n",
       "    <tr>\n",
       "      <th>1</th>\n",
       "      <td>/Users/joakim/tmp/fruits_wt/fruits-360/Trainin...</td>\n",
       "      <td>Tomato 4</td>\n",
       "    </tr>\n",
       "    <tr>\n",
       "      <th>2</th>\n",
       "      <td>/Users/joakim/tmp/fruits_wt/fruits-360/Trainin...</td>\n",
       "      <td>Tomato 4</td>\n",
       "    </tr>\n",
       "    <tr>\n",
       "      <th>3</th>\n",
       "      <td>/Users/joakim/tmp/fruits_wt/fruits-360/Trainin...</td>\n",
       "      <td>Tomato 4</td>\n",
       "    </tr>\n",
       "    <tr>\n",
       "      <th>4</th>\n",
       "      <td>/Users/joakim/tmp/fruits_wt/fruits-360/Trainin...</td>\n",
       "      <td>Tomato 4</td>\n",
       "    </tr>\n",
       "  </tbody>\n",
       "</table>\n",
       "</div>"
      ],
      "text/plain": [
       "                                               image fruit_class\n",
       "0  /Users/joakim/tmp/fruits_wt/fruits-360/Trainin...    Tomato 4\n",
       "1  /Users/joakim/tmp/fruits_wt/fruits-360/Trainin...    Tomato 4\n",
       "2  /Users/joakim/tmp/fruits_wt/fruits-360/Trainin...    Tomato 4\n",
       "3  /Users/joakim/tmp/fruits_wt/fruits-360/Trainin...    Tomato 4\n",
       "4  /Users/joakim/tmp/fruits_wt/fruits-360/Trainin...    Tomato 4"
      ]
     },
     "execution_count": 14,
     "metadata": {},
     "output_type": "execute_result"
    }
   ],
   "source": [
    "df = pd.DataFrame({'image': images_path})\n",
    "df['fruit_class'] = df['image'].progress_apply(lambda path: os.path.basename(os.path.dirname(path)))\n",
    "df.head()"
   ]
  },
  {
   "cell_type": "markdown",
   "metadata": {},
   "source": [
    "### Check that all images have the same format, e.g., RGB"
   ]
  },
  {
   "cell_type": "code",
   "execution_count": 15,
   "metadata": {},
   "outputs": [
    {
     "name": "stderr",
     "output_type": "stream",
     "text": [
      "100%|██████████| 53177/53177 [00:19<00:00, 2757.26it/s]\n"
     ]
    },
    {
     "name": "stdout",
     "output_type": "stream",
     "text": [
      "RGB    53177\n",
      "Name: image_mode, dtype: int64\n"
     ]
    }
   ],
   "source": [
    "def get_mode(path):\n",
    "    im = Image.open(path)\n",
    "    im.close()\n",
    "    return im.mode\n",
    "\n",
    "df['image_mode'] = df['image'].progress_apply(lambda path: get_mode(path))\n",
    "print(df['image_mode'].value_counts())\n",
    "df = df.drop(['image_mode'], axis=1)"
   ]
  },
  {
   "cell_type": "markdown",
   "metadata": {},
   "source": [
    "## View number of rows per class"
   ]
  },
  {
   "cell_type": "code",
   "execution_count": 16,
   "metadata": {},
   "outputs": [
    {
     "data": {
      "text/plain": [
       "Grape Blue             984\n",
       "Plum 3                 900\n",
       "Strawberry Wedge       738\n",
       "Cherry Rainier         738\n",
       "Tomato 1               738\n",
       "Melon Piel de Sapo     738\n",
       "Cherry 2               738\n",
       "Peach 2                738\n",
       "Tomato 3               738\n",
       "Walnut                 735\n",
       "Apple Red Yellow 2     672\n",
       "Tomato 2               672\n",
       "Pepper Yellow          666\n",
       "Pepper Red             666\n",
       "Pear Red               666\n",
       "Pineapple Mini         493\n",
       "Apple Golden 1         492\n",
       "Redcurrant             492\n",
       "Apple Red 2            492\n",
       "Cantaloupe 2           492\n",
       "Apple Braeburn         492\n",
       "Physalis               492\n",
       "Pomegranate            492\n",
       "Cherry Wax Yellow      492\n",
       "Tomato Cherry Red      492\n",
       "Physalis with Husk     492\n",
       "Mulberry               492\n",
       "Papaya                 492\n",
       "Nectarine              492\n",
       "Cherry Wax Red         492\n",
       "Cherry 1               492\n",
       "Apple Golden 2         492\n",
       "Strawberry             492\n",
       "Cantaloupe 1           492\n",
       "Grape White 3          492\n",
       "Rambutan               492\n",
       "Peach Flat             492\n",
       "Apple Red 1            492\n",
       "Cherry Wax Black       492\n",
       "Apricot                492\n",
       "Pear                   492\n",
       "Peach                  492\n",
       "Apple Red Yellow 1     492\n",
       "Apple Granny Smith     492\n",
       "Grapefruit White       492\n",
       "Lemon                  492\n",
       "Grape Pink             492\n",
       "Avocado ripe           491\n",
       "Pear Monster           490\n",
       "Pear Williams          490\n",
       "Salak                  490\n",
       "Limes                  490\n",
       "Granadilla             490\n",
       "Lychee                 490\n",
       "Dates                  490\n",
       "Banana                 490\n",
       "Grape White            490\n",
       "Cocos                  490\n",
       "Guava                  490\n",
       "Pear Abate             490\n",
       "Huckleberry            490\n",
       "Carambula              490\n",
       "Grapefruit Pink        490\n",
       "Tamarillo              490\n",
       "Tangelo                490\n",
       "Kaki                   490\n",
       "Quince                 490\n",
       "Kumquats               490\n",
       "Passion Fruit          490\n",
       "Mandarine              490\n",
       "Mango                  490\n",
       "Raspberry              490\n",
       "Clementine             490\n",
       "Pepino                 490\n",
       "Apple Red Delicious    490\n",
       "Maracuja               490\n",
       "Pineapple              490\n",
       "Grape White 2          490\n",
       "Lemon Meyer            490\n",
       "Pitahaya Red           490\n",
       "Cactus fruit           490\n",
       "Banana Red             490\n",
       "Apple Golden 3         481\n",
       "Tomato 4               479\n",
       "Orange                 479\n",
       "Kohlrabi               471\n",
       "Grape White 4          471\n",
       "Kiwi                   466\n",
       "Hazelnut               464\n",
       "Tomato Yellow          459\n",
       "Apple Pink Lady        456\n",
       "Chestnut               450\n",
       "Pomelo Sweetie         450\n",
       "Banana Lady Finger     450\n",
       "Plum                   447\n",
       "Apple Crimson Snow     444\n",
       "Pepper Green           444\n",
       "Apple Red 3            429\n",
       "Avocado                427\n",
       "Plum 2                 420\n",
       "Tomato Maroon          367\n",
       "Pear Kaiser            300\n",
       "Mangostan              300\n",
       "Name: fruit_class, dtype: int64"
      ]
     },
     "execution_count": 16,
     "metadata": {},
     "output_type": "execute_result"
    }
   ],
   "source": [
    "pd.set_option('display.max_rows', 150)\n",
    "df['fruit_class'].value_counts()"
   ]
  },
  {
   "cell_type": "markdown",
   "metadata": {},
   "source": [
    "## Create a reduced dataset with a lower number of \"Apple Granny Smith\""
   ]
  },
  {
   "cell_type": "code",
   "execution_count": 17,
   "metadata": {},
   "outputs": [
    {
     "data": {
      "text/plain": [
       "Grape Blue             984\n",
       "Plum 3                 900\n",
       "Tomato 1               738\n",
       "Cherry Rainier         738\n",
       "Melon Piel de Sapo     738\n",
       "Tomato 3               738\n",
       "Cherry 2               738\n",
       "Peach 2                738\n",
       "Strawberry Wedge       738\n",
       "Walnut                 735\n",
       "Tomato 2               672\n",
       "Apple Red Yellow 2     672\n",
       "Pepper Red             666\n",
       "Pear Red               666\n",
       "Pepper Yellow          666\n",
       "Pineapple Mini         493\n",
       "Physalis               492\n",
       "Apple Red 1            492\n",
       "Nectarine              492\n",
       "Cherry Wax Red         492\n",
       "Mulberry               492\n",
       "Tomato Cherry Red      492\n",
       "Papaya                 492\n",
       "Pomegranate            492\n",
       "Pear                   492\n",
       "Cherry Wax Black       492\n",
       "Strawberry             492\n",
       "Redcurrant             492\n",
       "Apple Golden 1         492\n",
       "Grape Pink             492\n",
       "Apple Red 2            492\n",
       "Cherry 1               492\n",
       "Cantaloupe 2           492\n",
       "Apple Golden 2         492\n",
       "Peach Flat             492\n",
       "Apricot                492\n",
       "Physalis with Husk     492\n",
       "Cherry Wax Yellow      492\n",
       "Cantaloupe 1           492\n",
       "Apple Braeburn         492\n",
       "Apple Red Yellow 1     492\n",
       "Rambutan               492\n",
       "Grape White 3          492\n",
       "Lemon                  492\n",
       "Grapefruit White       492\n",
       "Peach                  492\n",
       "Avocado ripe           491\n",
       "Limes                  490\n",
       "Dates                  490\n",
       "Granadilla             490\n",
       "Grapefruit Pink        490\n",
       "Banana                 490\n",
       "Lychee                 490\n",
       "Guava                  490\n",
       "Huckleberry            490\n",
       "Pear Abate             490\n",
       "Cocos                  490\n",
       "Grape White            490\n",
       "Pear Monster           490\n",
       "Salak                  490\n",
       "Pear Williams          490\n",
       "Carambula              490\n",
       "Tamarillo              490\n",
       "Mango                  490\n",
       "Kaki                   490\n",
       "Kumquats               490\n",
       "Passion Fruit          490\n",
       "Mandarine              490\n",
       "Quince                 490\n",
       "Tangelo                490\n",
       "Raspberry              490\n",
       "Clementine             490\n",
       "Apple Red Delicious    490\n",
       "Pepino                 490\n",
       "Maracuja               490\n",
       "Pineapple              490\n",
       "Lemon Meyer            490\n",
       "Pitahaya Red           490\n",
       "Cactus fruit           490\n",
       "Grape White 2          490\n",
       "Banana Red             490\n",
       "Apple Golden 3         481\n",
       "Tomato 4               479\n",
       "Orange                 479\n",
       "Kohlrabi               471\n",
       "Grape White 4          471\n",
       "Kiwi                   466\n",
       "Hazelnut               464\n",
       "Tomato Yellow          459\n",
       "Apple Pink Lady        456\n",
       "Pomelo Sweetie         450\n",
       "Banana Lady Finger     450\n",
       "Chestnut               450\n",
       "Plum                   447\n",
       "Apple Crimson Snow     444\n",
       "Pepper Green           444\n",
       "Apple Red 3            429\n",
       "Avocado                427\n",
       "Plum 2                 420\n",
       "Tomato Maroon          367\n",
       "Pear Kaiser            300\n",
       "Mangostan              300\n",
       "Apple Granny Smith      49\n",
       "Name: fruit_class, dtype: int64"
      ]
     },
     "execution_count": 17,
     "metadata": {},
     "output_type": "execute_result"
    }
   ],
   "source": [
    "df_ags = df.query('fruit_class==\"Apple Granny Smith\"')\n",
    "df_ags = df_ags.sample(frac=0.1, random_state=1)\n",
    "df_reduced = df.query('fruit_class!=\"Apple Granny Smith\"')\n",
    "df_reduced = pd.concat([df_reduced, df_ags], sort=False)\n",
    "df_reduced['fruit_class'].value_counts()"
   ]
  },
  {
   "cell_type": "markdown",
   "metadata": {},
   "source": [
    "## Shuffle the rows"
   ]
  },
  {
   "cell_type": "markdown",
   "metadata": {},
   "source": [
    "When you save a new version of a dataset on the platform, the rows in the dataset will be shuffled automatically. To ensure that samples from different classes are displayed in the Datasets preview, you can shuffle the rows before the dataset is uploaded to the platform. "
   ]
  },
  {
   "cell_type": "code",
   "execution_count": 18,
   "metadata": {},
   "outputs": [
    {
     "name": "stdout",
     "output_type": "stream",
     "text": [
      "Complete dataset 53177\n",
      "Reduced dataset 52734\n"
     ]
    }
   ],
   "source": [
    "df = df.sample(frac=1.0, random_state=1)\n",
    "df_reduced = df_reduced.sample(frac=1.0, random_state=1)\n",
    "print('Complete dataset {}'.format(len(df)))\n",
    "print('Reduced dataset {}'.format(len(df_reduced)))"
   ]
  },
  {
   "cell_type": "markdown",
   "metadata": {},
   "source": [
    "## Create dataset bundles"
   ]
  },
  {
   "cell_type": "code",
   "execution_count": 19,
   "metadata": {},
   "outputs": [],
   "source": [
    "'''\n",
    "Available modes:\n",
    "- crop_and_resize\n",
    "- center_crop_or_pad\n",
    "- resize_image\n",
    "'''\n",
    "image_processor = functools.partial(sidekick.process_image, mode='crop_and_resize', size=(100, 100), file_format='jpeg')\n",
    "\n",
    "# Reduced dataset\n",
    "sidekick.create_dataset(\n",
    "    output_path_reduced,\n",
    "    df_reduced,\n",
    "    path_columns=['image'],\n",
    "    preprocess={\n",
    "        'image': image_processor\n",
    "    }\n",
    ")\n",
    "\n",
    "# Complete dataset\n",
    "sidekick.create_dataset(\n",
    "    output_path,\n",
    "    df,\n",
    "    path_columns=['image'],\n",
    "    preprocess={\n",
    "        'image': image_processor\n",
    "    }\n",
    ")"
   ]
  }
 ],
 "metadata": {
  "kernelspec": {
   "display_name": "Python 3",
   "language": "python",
   "name": "python3"
  },
  "language_info": {
   "codemirror_mode": {
    "name": "ipython",
    "version": 3
   },
   "file_extension": ".py",
   "mimetype": "text/x-python",
   "name": "python",
   "nbconvert_exporter": "python",
   "pygments_lexer": "ipython3",
   "version": "3.7.3"
  }
 },
 "nbformat": 4,
 "nbformat_minor": 2
}

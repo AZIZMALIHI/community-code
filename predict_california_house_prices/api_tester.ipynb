{
 "cells": [
  {
   "cell_type": "markdown",
   "metadata": {
    "colab_type": "text",
    "id": "tfJ6xgn0nhfv"
   },
   "source": [
    "# House price prediction"
   ]
  },
  {
   "cell_type": "code",
   "execution_count": 0,
   "metadata": {
    "cellView": "form",
    "colab": {},
    "colab_type": "code",
    "id": "-Zxz_SbGOeKB"
   },
   "outputs": [],
   "source": [
    "#@markdown Install Peltarion Sidekick\n",
    "!pip install git+https://github.com/Peltarion/sidekick#egg=sidekick"
   ]
  },
  {
   "cell_type": "code",
   "execution_count": 0,
   "metadata": {
    "cellView": "form",
    "colab": {},
    "colab_type": "code",
    "id": "JIruhfSIPA6r"
   },
   "outputs": [],
   "source": [
    "import sidekick\n",
    "\n",
    "#@markdown Configure Peltarion API\n",
    "url = '' #@param {type: \"string\"}\n",
    "token = '' #@param {type: \"string\"}\n",
    "\n",
    "client = sidekick.Deployment(\n",
    "    url=url,\n",
    "    token=token\n",
    ")"
   ]
  },
  {
   "cell_type": "code",
   "execution_count": null,
   "metadata": {
    "cellView": "form",
    "colab": {},
    "colab_type": "code",
    "id": "0-j_E2FPcYAC"
   },
   "outputs": [],
   "source": [
    "from PIL import Image\n",
    "import requests\n",
    "from io import BytesIO\n",
    "from google.colab import files\n",
    "\n",
    "#@markdown Upload map image\n",
    "\n",
    "uploaded = files.upload()\n",
    "\n",
    "for fn in uploaded.keys():\n",
    "  print('User uploaded file \"{name}\" with length {length} bytes'.format(\n",
    "      name=fn, length=len(uploaded[fn])))\n",
    "\n",
    "image = Image.open(fn)\n",
    "image = image.convert('RGB')\n",
    "image.format = 'PNG'\n",
    "image"
   ]
  },
  {
   "cell_type": "code",
   "execution_count": 0,
   "metadata": {
    "cellView": "form",
    "colab": {},
    "colab_type": "code",
    "id": "T0sUb8ksQZ21"
   },
   "outputs": [],
   "source": [
    "from PIL import Image\n",
    "import requests\n",
    "from io import BytesIO\n",
    "import IPython\n",
    "\n",
    "#@markdown Setup properties\n",
    "\n",
    "housingMedianAge = 14  #@param {type: \"slider\", min: 1, max: 52}\n",
    "households = 733  #@param {type: \"slider\", min: 1, max: 6082}\n",
    "totalBedrooms = 2196  #@param {type: \"slider\", min: 1, max: 6445}\n",
    "totalRooms = 12201  #@param {type: \"slider\", min: 2, max: 39320}\n",
    "medianIncome = 56233  #@param {type: \"slider\", min: 4999, max: 150001}\n",
    "population = 10300  #@param {type: \"slider\", min: 3, max: 35682}\n",
    "\n",
    "# Get predictions from model\n",
    "prediction=client.predict(\n",
    "    image=image,\n",
    "    housingMedianAge=float(housingMedianAge),\n",
    "    households=float(households),\n",
    "    totalBedrooms=float(totalBedrooms),\n",
    "    totalRooms=float(totalRooms),\n",
    "    medianIncome=float(medianIncome),\n",
    "    image_path=image,\n",
    "    population=float(population)\n",
    ")\n",
    "\n",
    "houseMedianPrice = prediction[\"medianHouseValue\"]\n",
    "printText = '% 3.0f' % houseMedianPrice\n",
    "\n",
    "html = \"<h1>Predicted house median price= <i> $\" + str(printText) + \"</i></h1>\"\n",
    "IPython.display.HTML(html)"
   ]
  }
 ],
 "metadata": {
  "colab": {
   "name": "California house price prediction demo",
   "provenance": [],
   "version": "0.3.2"
  },
  "kernelspec": {
   "display_name": "Python 3",
   "language": "python",
   "name": "python3"
  },
  "language_info": {
   "codemirror_mode": {
    "name": "ipython",
    "version": 3
   },
   "file_extension": ".py",
   "mimetype": "text/x-python",
   "name": "python",
   "nbconvert_exporter": "python",
   "pygments_lexer": "ipython3",
   "version": "3.7.3"
  }
 },
 "nbformat": 4,
 "nbformat_minor": 1
}

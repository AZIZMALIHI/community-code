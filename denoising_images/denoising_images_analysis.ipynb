{
 "cells": [
  {
   "cell_type": "markdown",
   "metadata": {},
   "source": [
    "# Model analysis\n",
    "This notebook will help you to analyze the output from the autoencoder model in the tutorial \"Denoising images\".\n",
    "\n",
    "The test dataset (unlabeled) is available here:\n",
    "https://storage.googleapis.com/bucket-8732/ImageDenoiser/MNISTtest.zip\n",
    "\n",
    "**Note**: This notebook requires installation of Sidekick. To install the package within the notebook, run the following code:\n",
    "\n",
    "import sys\n",
    "!{sys.executable} -m pip install git+https://github.com/Peltarion/sidekick#egg=sidekick\n",
    "\n",
    "For more information about Sidekick, see: https://github.com/Peltarion/sidekick"
   ]
  },
  {
   "cell_type": "code",
   "execution_count": 12,
   "metadata": {},
   "outputs": [],
   "source": [
    "import glob\n",
    "import os\n",
    "import random\n",
    "\n",
    "import numpy as np\n",
    "from PIL import Image\n",
    "import seaborn as sns\n",
    "import sidekick\n",
    "from tqdm import tqdm"
   ]
  },
  {
   "cell_type": "markdown",
   "metadata": {},
   "source": [
    "## Setup"
   ]
  },
  {
   "cell_type": "markdown",
   "metadata": {},
   "source": [
    "### Paths"
   ]
  },
  {
   "cell_type": "code",
   "execution_count": 13,
   "metadata": {},
   "outputs": [],
   "source": [
    "data_dir = './MNISTtest'"
   ]
  },
  {
   "cell_type": "markdown",
   "metadata": {},
   "source": [
    "### Client to deployment"
   ]
  },
  {
   "cell_type": "code",
   "execution_count": 14,
   "metadata": {},
   "outputs": [],
   "source": [
    "deployment_url = 'https://...'\n",
    "deployment_token = '...'\n",
    "\n",
    "client = sidekick.Deployment(\n",
    "    url=deployment_url,\n",
    "    token=deployment_token\n",
    ")"
   ]
  },
  {
   "cell_type": "markdown",
   "metadata": {},
   "source": [
    "## Load test data"
   ]
  },
  {
   "cell_type": "code",
   "execution_count": 15,
   "metadata": {},
   "outputs": [
    {
     "name": "stdout",
     "output_type": "stream",
     "text": [
      "Number of images: 10000\n"
     ]
    }
   ],
   "source": [
    "test_images = []\n",
    "for filename in glob.glob(os.path.join(data_dir, '*.png')):    \n",
    "    im=Image.open(filename)\n",
    "    im2 = im.copy()\n",
    "    test_images.append(im2)\n",
    "    im.close()\n",
    "print('Number of images: {}'.format(len(test_images)))"
   ]
  },
  {
   "cell_type": "markdown",
   "metadata": {},
   "source": [
    "## Reconstruct test images with added noise"
   ]
  },
  {
   "cell_type": "code",
   "execution_count": 16,
   "metadata": {},
   "outputs": [],
   "source": [
    "def add_noise(im):\n",
    "    np_im = np.array(im) # Convert to NP before applying noise\n",
    "    row, col = np_im.shape \n",
    "    gauss = np.random.randn(row, col) # Generate noise\n",
    "    noisy = np_im + np_im * gauss # Add noise to foreground (black color is not affected) \n",
    "    noisy_im = Image.fromarray(noisy) # Convert back to PIL image\n",
    "    noisy_im = noisy_im.convert(\"L\") # Set image mode to grayscale\n",
    "    noisy_im.format = 'PNG'\n",
    "    return noisy_im\n",
    "\n",
    "def get_reconstruction_error(im, recon_im):\n",
    "    im_np, recon_im_np = np.array(im) / 255., np.array(recon_im) / 255.\n",
    "    error = -(im_np * np.log(recon_im_np + 1e-7)).mean()  # Approx. binary crossentropy\n",
    "    return error"
   ]
  },
  {
   "cell_type": "code",
   "execution_count": 17,
   "metadata": {},
   "outputs": [],
   "source": [
    "test_images_i = iter(test_images)"
   ]
  },
  {
   "cell_type": "code",
   "execution_count": 19,
   "metadata": {},
   "outputs": [
    {
     "data": {
      "image/png": "[encoded data removed]",
      "text/plain": [
       "<PIL.Image.Image image mode=L size=100x100 at 0x12A188EF0>"
      ]
     },
     "metadata": {},
     "output_type": "display_data"
    },
    {
     "data": {
      "text/plain": [
       "'Original'"
      ]
     },
     "metadata": {},
     "output_type": "display_data"
    },
    {
     "data": {
      "image/png": "[encoded data removed]",
      "text/plain": [
       "<PIL.Image.Image image mode=L size=100x100 at 0x12A1024E0>"
      ]
     },
     "metadata": {},
     "output_type": "display_data"
    },
    {
     "data": {
      "text/plain": [
       "'Noisy'"
      ]
     },
     "metadata": {},
     "output_type": "display_data"
    },
    {
     "data": {
      "image/png": "[encoded data removed]",
      "text/plain": [
       "<PIL.Image.Image image mode=L size=100x100 at 0x12BA89978>"
      ]
     },
     "metadata": {},
     "output_type": "display_data"
    },
    {
     "data": {
      "text/plain": [
       "'Denoised'"
      ]
     },
     "metadata": {},
     "output_type": "display_data"
    },
    {
     "name": "stdout",
     "output_type": "stream",
     "text": [
      "Reconstruction error (BCE): 0.1311635819992885\n"
     ]
    }
   ],
   "source": [
    "im = next(test_images_i)\n",
    "display(im.resize((100,100)), 'Original')\n",
    "noisy_im = add_noise(im)\n",
    "noisy_im.format = 'PNG'\n",
    "display(noisy_im.resize((100,100)), 'Noisy')\n",
    "recon_im = client.predict(image=noisy_im)['image']\n",
    "error = get_reconstruction_error(im, recon_im)\n",
    "display(recon_im.resize((100, 100)),'Denoised')\n",
    "print('Reconstruction error (BCE): {}'.format(error))"
   ]
  },
  {
   "cell_type": "markdown",
   "metadata": {},
   "source": [
    "## Calculate and plot distribution of reconstruction errors"
   ]
  },
  {
   "cell_type": "code",
   "execution_count": 20,
   "metadata": {},
   "outputs": [
    {
     "name": "stderr",
     "output_type": "stream",
     "text": [
      "100%|██████████| 1000/1000 [00:45<00:00, 21.83it/s]\n"
     ]
    },
    {
     "data": {
      "image/png": "[encoded data removed]",
      "text/plain": [
       "<Figure size 432x288 with 1 Axes>"
      ]
     },
     "metadata": {},
     "output_type": "display_data"
    }
   ],
   "source": [
    "random_samples = random.sample(test_images, k=1000) # 1,000 samples\n",
    "pbar = tqdm(total=len(random_samples))\n",
    "errors = []\n",
    "for im in random_samples:\n",
    "    noisy_im = add_noise(im)    \n",
    "    recon_im = client.predict(image=noisy_im)['image']\n",
    "    im_np, recon_im_np = np.array(im), np.array(recon_im)    \n",
    "    errors.append(get_reconstruction_error(im_np, recon_im_np))\n",
    "    pbar.update(1)\n",
    "pbar.close()\n",
    "sns.set_style('darkgrid')\n",
    "sns.distplot(np.array(errors), axlabel='Binary crossentropy loss');"
   ]
  }
 ],
 "metadata": {
  "kernelspec": {
   "display_name": "Python 3",
   "language": "python",
   "name": "python3"
  },
  "language_info": {
   "codemirror_mode": {
    "name": "ipython",
    "version": 3
   },
   "file_extension": ".py",
   "mimetype": "text/x-python",
   "name": "python",
   "nbconvert_exporter": "python",
   "pygments_lexer": "ipython3",
   "version": "3.7.3"
  }
 },
 "nbformat": 4,
 "nbformat_minor": 2
}

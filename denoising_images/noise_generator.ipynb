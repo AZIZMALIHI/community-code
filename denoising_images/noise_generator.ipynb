{
 "cells": [
  {
   "cell_type": "markdown",
   "metadata": {},
   "source": [
    "# Test data generation\n",
    "This notebook will add random noise to PNG images."
   ]
  },
  {
   "cell_type": "code",
   "execution_count": null,
   "metadata": {
    "scrolled": true
   },
   "outputs": [],
   "source": [
    "from glob import glob\n",
    "import os\n",
    "\n",
    "import numpy as np\n",
    "from PIL import Image"
   ]
  },
  {
   "cell_type": "markdown",
   "metadata": {},
   "source": [
    "## Set paths"
   ]
  },
  {
   "cell_type": "code",
   "execution_count": null,
   "metadata": {},
   "outputs": [],
   "source": [
    "input_dir = './MNISTtest'\n",
    "output_dir = './MNISTnoisy'"
   ]
  },
  {
   "cell_type": "markdown",
   "metadata": {},
   "source": [
    "## Load test data"
   ]
  },
  {
   "cell_type": "code",
   "execution_count": null,
   "metadata": {},
   "outputs": [],
   "source": [
    "test_images = []\n",
    "for filename in glob(os.path.join(input_dir,'*.png')):    \n",
    "    im=Image.open(filename)\n",
    "    im2 = im.copy()\n",
    "    test_images.append(im2)\n",
    "    im.close()\n",
    "print('Number of images: {}'.format(len(test_images)))"
   ]
  },
  {
   "cell_type": "markdown",
   "metadata": {},
   "source": [
    "## Add image noise\n"
   ]
  },
  {
   "cell_type": "code",
   "execution_count": null,
   "metadata": {},
   "outputs": [],
   "source": [
    "def add_noise(im):\n",
    "    np_im = np.array(im)\n",
    "    row, col = np_im.shape\n",
    "    gauss = np.random.randn(row,col)\n",
    "    gauss = gauss.reshape(row, col)        \n",
    "    noisy = np_im + np_im * gauss\n",
    "    noisy_im = Image.fromarray(noisy)\n",
    "    noisy_im = noisy_im.convert(\"L\")\n",
    "    noisy_im.format = 'PNG'\n",
    "    return noisy_im"
   ]
  },
  {
   "cell_type": "code",
   "execution_count": null,
   "metadata": {},
   "outputs": [],
   "source": [
    "for i,im in enumerate(test_images):\n",
    "    output_path = os.path.join(output_dir,str(i))+'.png'\n",
    "    print(output_path)\n",
    "    im = add_noise(im)\n",
    "    im.save(output_path,'PNG')"
   ]
  }
 ],
 "metadata": {
  "kernelspec": {
   "display_name": "Python 3",
   "language": "python",
   "name": "python3"
  },
  "language_info": {
   "codemirror_mode": {
    "name": "ipython",
    "version": 3
   },
   "file_extension": ".py",
   "mimetype": "text/x-python",
   "name": "python",
   "nbconvert_exporter": "python",
   "pygments_lexer": "ipython3",
   "version": "3.7.3"
  }
 },
 "nbformat": 4,
 "nbformat_minor": 2
}

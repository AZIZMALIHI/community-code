{
 "cells": [
  {
   "cell_type": "markdown",
   "metadata": {},
   "source": [
    "# Car damage dataset preprocessor\n",
    "This notebook will prepare the car damage dataset for the Peltarion platform.\n",
    "\n",
    "Note: This notebook requires installation of Sidekick. For more information about this package, see:\n",
    "https://github.com/Peltarion/sidekick\n",
    "\n",
    "The raw dataset is available at:  https://storage.cloud.google.com/bucket-8732/car_damage/raw.zip\n",
    "\n",
    "---\n"
   ]
  },
  {
   "cell_type": "code",
   "execution_count": 2,
   "metadata": {
    "scrolled": true
   },
   "outputs": [],
   "source": [
    "import os\n",
    "import sidekick\n",
    "import resource\n",
    "import functools\n",
    "import pandas as pd\n",
    "from glob import glob\n",
    "from PIL import Image\n",
    "from sklearn.model_selection import train_test_split"
   ]
  },
  {
   "cell_type": "markdown",
   "metadata": {},
   "source": [
    "## Set paths"
   ]
  },
  {
   "cell_type": "code",
   "execution_count": 17,
   "metadata": {},
   "outputs": [],
   "source": [
    "# Path to the raw dataset (unzipped)\n",
    "input_path = './raw'\n",
    "# Path to the zip output\n",
    "output_path = './preprocessed.zip'"
   ]
  },
  {
   "cell_type": "markdown",
   "metadata": {},
   "source": [
    "### Get list of paths to all files"
   ]
  },
  {
   "cell_type": "code",
   "execution_count": 7,
   "metadata": {},
   "outputs": [
    {
     "name": "stdout",
     "output_type": "stream",
     "text": [
      "Images found:  1538\n"
     ]
    }
   ],
   "source": [
    "images_rel_path = glob(input_path + '/*/*.jpg') + glob(input_path + '/*/*.png')\n",
    "print(\"Images found: \", len(images_rel_path))"
   ]
  },
  {
   "cell_type": "markdown",
   "metadata": {},
   "source": [
    "## Create Dataframe\n",
    "The class column values are derived from the names of the subfolders in the `input_path`.\n",
    "\n",
    "The image column contains the relative path to the images in the subfolders."
   ]
  },
  {
   "cell_type": "markdown",
   "metadata": {},
   "source": [
    "### Create image and class columns"
   ]
  },
  {
   "cell_type": "code",
   "execution_count": 8,
   "metadata": {},
   "outputs": [
    {
     "data": {
      "text/html": [
       "<div>\n",
       "<style scoped>\n",
       "    .dataframe tbody tr th:only-of-type {\n",
       "        vertical-align: middle;\n",
       "    }\n",
       "\n",
       "    .dataframe tbody tr th {\n",
       "        vertical-align: top;\n",
       "    }\n",
       "\n",
       "    .dataframe thead th {\n",
       "        text-align: right;\n",
       "    }\n",
       "</style>\n",
       "<table border=\"1\" class=\"dataframe\">\n",
       "  <thead>\n",
       "    <tr style=\"text-align: right;\">\n",
       "      <th></th>\n",
       "      <th>image</th>\n",
       "      <th>class</th>\n",
       "    </tr>\n",
       "  </thead>\n",
       "  <tbody>\n",
       "    <tr>\n",
       "      <th>0</th>\n",
       "      <td>/Users/joakim/rep/car-damage/data/raw/door_scr...</td>\n",
       "      <td>door_scratch</td>\n",
       "    </tr>\n",
       "    <tr>\n",
       "      <th>1</th>\n",
       "      <td>/Users/joakim/rep/car-damage/data/raw/door_scr...</td>\n",
       "      <td>door_scratch</td>\n",
       "    </tr>\n",
       "    <tr>\n",
       "      <th>2</th>\n",
       "      <td>/Users/joakim/rep/car-damage/data/raw/door_scr...</td>\n",
       "      <td>door_scratch</td>\n",
       "    </tr>\n",
       "    <tr>\n",
       "      <th>3</th>\n",
       "      <td>/Users/joakim/rep/car-damage/data/raw/door_scr...</td>\n",
       "      <td>door_scratch</td>\n",
       "    </tr>\n",
       "    <tr>\n",
       "      <th>4</th>\n",
       "      <td>/Users/joakim/rep/car-damage/data/raw/door_scr...</td>\n",
       "      <td>door_scratch</td>\n",
       "    </tr>\n",
       "  </tbody>\n",
       "</table>\n",
       "</div>"
      ],
      "text/plain": [
       "                                               image         class\n",
       "0  /Users/joakim/rep/car-damage/data/raw/door_scr...  door_scratch\n",
       "1  /Users/joakim/rep/car-damage/data/raw/door_scr...  door_scratch\n",
       "2  /Users/joakim/rep/car-damage/data/raw/door_scr...  door_scratch\n",
       "3  /Users/joakim/rep/car-damage/data/raw/door_scr...  door_scratch\n",
       "4  /Users/joakim/rep/car-damage/data/raw/door_scr...  door_scratch"
      ]
     },
     "execution_count": 8,
     "metadata": {},
     "output_type": "execute_result"
    }
   ],
   "source": [
    "df = pd.DataFrame({'image': images_rel_path})\n",
    "df['class'] = df['image'].apply(lambda path: os.path.basename(os.path.dirname(path)))\n",
    "df.head()"
   ]
  },
  {
   "cell_type": "markdown",
   "metadata": {},
   "source": [
    "## Filter images\n",
    "Filter out non-RGB images"
   ]
  },
  {
   "cell_type": "markdown",
   "metadata": {},
   "source": [
    "Create temporary ``image_mode`` column"
   ]
  },
  {
   "cell_type": "code",
   "execution_count": 9,
   "metadata": {},
   "outputs": [
    {
     "data": {
      "text/plain": [
       "RGB     1512\n",
       "RGBA      18\n",
       "P          6\n",
       "CMYK       2\n",
       "Name: image_mode, dtype: int64"
      ]
     },
     "execution_count": 9,
     "metadata": {},
     "output_type": "execute_result"
    }
   ],
   "source": [
    "def get_mode(path):\n",
    "    im = Image.open(path)\n",
    "    im.close()\n",
    "    return im.mode\n",
    "\n",
    "df['image_mode'] = df['image'].apply(lambda path: get_mode(path))\n",
    "df['image_mode'].value_counts()"
   ]
  },
  {
   "cell_type": "code",
   "execution_count": 10,
   "metadata": {},
   "outputs": [
    {
     "data": {
      "text/plain": [
       "RGB    1512\n",
       "Name: image_mode, dtype: int64"
      ]
     },
     "execution_count": 10,
     "metadata": {},
     "output_type": "execute_result"
    }
   ],
   "source": [
    "df = df[df.image_mode =='RGB']\n",
    "df['image_mode'].value_counts()"
   ]
  },
  {
   "cell_type": "markdown",
   "metadata": {},
   "source": [
    "Remove the temporary column"
   ]
  },
  {
   "cell_type": "code",
   "execution_count": 11,
   "metadata": {},
   "outputs": [],
   "source": [
    "df = df.drop(['image_mode'], axis=1)"
   ]
  },
  {
   "cell_type": "code",
   "execution_count": 12,
   "metadata": {},
   "outputs": [
    {
     "data": {
      "text/plain": [
       "unknown           549\n",
       "door_dent         192\n",
       "door_scratch      154\n",
       "glass_shatter     137\n",
       "tail_lamp         136\n",
       "head_lamp         133\n",
       "bumper_dent       129\n",
       "bumper_scratch     82\n",
       "Name: class, dtype: int64"
      ]
     },
     "execution_count": 12,
     "metadata": {},
     "output_type": "execute_result"
    }
   ],
   "source": [
    "df['class'].value_counts()"
   ]
  },
  {
   "cell_type": "markdown",
   "metadata": {},
   "source": [
    "## Create subsets for training and validation"
   ]
  },
  {
   "cell_type": "code",
   "execution_count": 13,
   "metadata": {},
   "outputs": [
    {
     "data": {
      "text/plain": [
       "T    1209\n",
       "V     303\n",
       "Name: subset, dtype: int64"
      ]
     },
     "execution_count": 13,
     "metadata": {},
     "output_type": "execute_result"
    }
   ],
   "source": [
    "def create_subsets(df, col='class', validation_size=0.20):\n",
    "    train_data, validate_data = train_test_split(df, test_size=validation_size, random_state=42, stratify=df[[col]])\n",
    "    train_data.insert(loc=2, column='subset', value='T')\n",
    "    validate_data.insert(loc=2, column='subset', value='V')\n",
    "    return train_data.append(validate_data, ignore_index=True)\n",
    "\n",
    "df = create_subsets(df)\n",
    "df['subset'].value_counts()"
   ]
  },
  {
   "cell_type": "markdown",
   "metadata": {},
   "source": [
    "## Upsampling \n",
    "Upsampling (duplicating samples) can be used to prevent bias in an ubalanced dataset"
   ]
  },
  {
   "cell_type": "code",
   "execution_count": 14,
   "metadata": {},
   "outputs": [
    {
     "data": {
      "text/plain": [
       "unknown           549\n",
       "door_dent         192\n",
       "bumper_scratch    164\n",
       "door_scratch      154\n",
       "glass_shatter     137\n",
       "tail_lamp         136\n",
       "head_lamp         133\n",
       "bumper_dent       129\n",
       "Name: class, dtype: int64"
      ]
     },
     "execution_count": 14,
     "metadata": {},
     "output_type": "execute_result"
    }
   ],
   "source": [
    "def upsample_class_x2(df, class_name):\n",
    "    df_sample_training = df[(df['subset'] == 'T') & (df['class'] == class_name)]\n",
    "    df_sample_validation = df[(df['subset'] == 'V') & (df['class'] == class_name)]\n",
    "    return pd.concat([df, df_sample_training, df_sample_validation], axis=0, sort=False)\n",
    "\n",
    "df = upsample_class_x2(df, 'bumper_scratch')\n",
    "df['class'].value_counts()"
   ]
  },
  {
   "cell_type": "markdown",
   "metadata": {},
   "source": [
    "## Create dataset bundle"
   ]
  },
  {
   "cell_type": "code",
   "execution_count": 16,
   "metadata": {},
   "outputs": [
    {
     "data": {
      "text/html": [
       "<div>\n",
       "<style scoped>\n",
       "    .dataframe tbody tr th:only-of-type {\n",
       "        vertical-align: middle;\n",
       "    }\n",
       "\n",
       "    .dataframe tbody tr th {\n",
       "        vertical-align: top;\n",
       "    }\n",
       "\n",
       "    .dataframe thead th {\n",
       "        text-align: right;\n",
       "    }\n",
       "</style>\n",
       "<table border=\"1\" class=\"dataframe\">\n",
       "  <thead>\n",
       "    <tr style=\"text-align: right;\">\n",
       "      <th></th>\n",
       "      <th>image</th>\n",
       "      <th>class</th>\n",
       "      <th>subset</th>\n",
       "    </tr>\n",
       "  </thead>\n",
       "  <tbody>\n",
       "    <tr>\n",
       "      <th>0</th>\n",
       "      <td>/Users/joakim/rep/car-damage/data/raw/unknown/...</td>\n",
       "      <td>unknown</td>\n",
       "      <td>T</td>\n",
       "    </tr>\n",
       "    <tr>\n",
       "      <th>1</th>\n",
       "      <td>/Users/joakim/rep/car-damage/data/raw/head_lam...</td>\n",
       "      <td>head_lamp</td>\n",
       "      <td>T</td>\n",
       "    </tr>\n",
       "    <tr>\n",
       "      <th>2</th>\n",
       "      <td>/Users/joakim/rep/car-damage/data/raw/door_scr...</td>\n",
       "      <td>door_scratch</td>\n",
       "      <td>T</td>\n",
       "    </tr>\n",
       "    <tr>\n",
       "      <th>3</th>\n",
       "      <td>/Users/joakim/rep/car-damage/data/raw/head_lam...</td>\n",
       "      <td>head_lamp</td>\n",
       "      <td>T</td>\n",
       "    </tr>\n",
       "    <tr>\n",
       "      <th>4</th>\n",
       "      <td>/Users/joakim/rep/car-damage/data/raw/unknown/...</td>\n",
       "      <td>unknown</td>\n",
       "      <td>T</td>\n",
       "    </tr>\n",
       "  </tbody>\n",
       "</table>\n",
       "</div>"
      ],
      "text/plain": [
       "                                               image         class subset\n",
       "0  /Users/joakim/rep/car-damage/data/raw/unknown/...       unknown      T\n",
       "1  /Users/joakim/rep/car-damage/data/raw/head_lam...     head_lamp      T\n",
       "2  /Users/joakim/rep/car-damage/data/raw/door_scr...  door_scratch      T\n",
       "3  /Users/joakim/rep/car-damage/data/raw/head_lam...     head_lamp      T\n",
       "4  /Users/joakim/rep/car-damage/data/raw/unknown/...       unknown      T"
      ]
     },
     "execution_count": 16,
     "metadata": {},
     "output_type": "execute_result"
    }
   ],
   "source": [
    "df.head()"
   ]
  },
  {
   "cell_type": "code",
   "execution_count": 18,
   "metadata": {},
   "outputs": [
    {
     "name": "stderr",
     "output_type": "stream",
     "text": [
      "/usr/local/Cellar/python/3.7.1/Frameworks/Python.framework/Versions/3.7/lib/python3.7/zipfile.py:1470: UserWarning: Duplicate name: 'image/90.jpeg'\n",
      "  return self._open_to_write(zinfo, force_zip64=force_zip64)\n",
      "/usr/local/Cellar/python/3.7.1/Frameworks/Python.framework/Versions/3.7/lib/python3.7/zipfile.py:1470: UserWarning: Duplicate name: 'image/56.jpeg'\n",
      "  return self._open_to_write(zinfo, force_zip64=force_zip64)\n",
      "/usr/local/Cellar/python/3.7.1/Frameworks/Python.framework/Versions/3.7/lib/python3.7/zipfile.py:1470: UserWarning: Duplicate name: 'image/27.jpeg'\n",
      "  return self._open_to_write(zinfo, force_zip64=force_zip64)\n",
      "/usr/local/Cellar/python/3.7.1/Frameworks/Python.framework/Versions/3.7/lib/python3.7/zipfile.py:1470: UserWarning: Duplicate name: 'image/137.jpeg'\n",
      "  return self._open_to_write(zinfo, force_zip64=force_zip64)\n",
      "/usr/local/Cellar/python/3.7.1/Frameworks/Python.framework/Versions/3.7/lib/python3.7/zipfile.py:1470: UserWarning: Duplicate name: 'image/223.jpeg'\n",
      "  return self._open_to_write(zinfo, force_zip64=force_zip64)\n",
      "/usr/local/Cellar/python/3.7.1/Frameworks/Python.framework/Versions/3.7/lib/python3.7/zipfile.py:1470: UserWarning: Duplicate name: 'image/102.jpeg'\n",
      "  return self._open_to_write(zinfo, force_zip64=force_zip64)\n",
      "/usr/local/Cellar/python/3.7.1/Frameworks/Python.framework/Versions/3.7/lib/python3.7/zipfile.py:1470: UserWarning: Duplicate name: 'image/140.jpeg'\n",
      "  return self._open_to_write(zinfo, force_zip64=force_zip64)\n",
      "/usr/local/Cellar/python/3.7.1/Frameworks/Python.framework/Versions/3.7/lib/python3.7/zipfile.py:1470: UserWarning: Duplicate name: 'image/175.jpeg'\n",
      "  return self._open_to_write(zinfo, force_zip64=force_zip64)\n",
      "/usr/local/Cellar/python/3.7.1/Frameworks/Python.framework/Versions/3.7/lib/python3.7/zipfile.py:1470: UserWarning: Duplicate name: 'image/232.jpeg'\n",
      "  return self._open_to_write(zinfo, force_zip64=force_zip64)\n",
      "/usr/local/Cellar/python/3.7.1/Frameworks/Python.framework/Versions/3.7/lib/python3.7/zipfile.py:1470: UserWarning: Duplicate name: 'image/207.jpeg'\n",
      "  return self._open_to_write(zinfo, force_zip64=force_zip64)\n",
      "/usr/local/Cellar/python/3.7.1/Frameworks/Python.framework/Versions/3.7/lib/python3.7/zipfile.py:1470: UserWarning: Duplicate name: 'image/260.jpeg'\n",
      "  return self._open_to_write(zinfo, force_zip64=force_zip64)\n",
      "/usr/local/Cellar/python/3.7.1/Frameworks/Python.framework/Versions/3.7/lib/python3.7/zipfile.py:1470: UserWarning: Duplicate name: 'image/244.jpeg'\n",
      "  return self._open_to_write(zinfo, force_zip64=force_zip64)\n",
      "/usr/local/Cellar/python/3.7.1/Frameworks/Python.framework/Versions/3.7/lib/python3.7/zipfile.py:1470: UserWarning: Duplicate name: 'image/292.jpeg'\n",
      "  return self._open_to_write(zinfo, force_zip64=force_zip64)\n",
      "/usr/local/Cellar/python/3.7.1/Frameworks/Python.framework/Versions/3.7/lib/python3.7/zipfile.py:1470: UserWarning: Duplicate name: 'image/267.jpeg'\n",
      "  return self._open_to_write(zinfo, force_zip64=force_zip64)\n",
      "/usr/local/Cellar/python/3.7.1/Frameworks/Python.framework/Versions/3.7/lib/python3.7/zipfile.py:1470: UserWarning: Duplicate name: 'image/263.jpeg'\n",
      "  return self._open_to_write(zinfo, force_zip64=force_zip64)\n",
      "/usr/local/Cellar/python/3.7.1/Frameworks/Python.framework/Versions/3.7/lib/python3.7/zipfile.py:1470: UserWarning: Duplicate name: 'image/296.jpeg'\n",
      "  return self._open_to_write(zinfo, force_zip64=force_zip64)\n",
      "/usr/local/Cellar/python/3.7.1/Frameworks/Python.framework/Versions/3.7/lib/python3.7/zipfile.py:1470: UserWarning: Duplicate name: 'image/306.jpeg'\n",
      "  return self._open_to_write(zinfo, force_zip64=force_zip64)\n",
      "/usr/local/Cellar/python/3.7.1/Frameworks/Python.framework/Versions/3.7/lib/python3.7/zipfile.py:1470: UserWarning: Duplicate name: 'image/340.jpeg'\n",
      "  return self._open_to_write(zinfo, force_zip64=force_zip64)\n",
      "/usr/local/Cellar/python/3.7.1/Frameworks/Python.framework/Versions/3.7/lib/python3.7/zipfile.py:1470: UserWarning: Duplicate name: 'image/436.jpeg'\n",
      "  return self._open_to_write(zinfo, force_zip64=force_zip64)\n",
      "/usr/local/Cellar/python/3.7.1/Frameworks/Python.framework/Versions/3.7/lib/python3.7/zipfile.py:1470: UserWarning: Duplicate name: 'image/327.jpeg'\n",
      "  return self._open_to_write(zinfo, force_zip64=force_zip64)\n",
      "/usr/local/Cellar/python/3.7.1/Frameworks/Python.framework/Versions/3.7/lib/python3.7/zipfile.py:1470: UserWarning: Duplicate name: 'image/295.jpeg'\n",
      "  return self._open_to_write(zinfo, force_zip64=force_zip64)\n",
      "/usr/local/Cellar/python/3.7.1/Frameworks/Python.framework/Versions/3.7/lib/python3.7/zipfile.py:1470: UserWarning: Duplicate name: 'image/476.jpeg'\n",
      "  return self._open_to_write(zinfo, force_zip64=force_zip64)\n",
      "/usr/local/Cellar/python/3.7.1/Frameworks/Python.framework/Versions/3.7/lib/python3.7/zipfile.py:1470: UserWarning: Duplicate name: 'image/439.jpeg'\n",
      "  return self._open_to_write(zinfo, force_zip64=force_zip64)\n",
      "/usr/local/Cellar/python/3.7.1/Frameworks/Python.framework/Versions/3.7/lib/python3.7/zipfile.py:1470: UserWarning: Duplicate name: 'image/414.jpeg'\n",
      "  return self._open_to_write(zinfo, force_zip64=force_zip64)\n",
      "/usr/local/Cellar/python/3.7.1/Frameworks/Python.framework/Versions/3.7/lib/python3.7/zipfile.py:1470: UserWarning: Duplicate name: 'image/410.jpeg'\n",
      "  return self._open_to_write(zinfo, force_zip64=force_zip64)\n",
      "/usr/local/Cellar/python/3.7.1/Frameworks/Python.framework/Versions/3.7/lib/python3.7/zipfile.py:1470: UserWarning: Duplicate name: 'image/172.jpeg'\n",
      "  return self._open_to_write(zinfo, force_zip64=force_zip64)\n",
      "/usr/local/Cellar/python/3.7.1/Frameworks/Python.framework/Versions/3.7/lib/python3.7/zipfile.py:1470: UserWarning: Duplicate name: 'image/393.jpeg'\n",
      "  return self._open_to_write(zinfo, force_zip64=force_zip64)\n",
      "/usr/local/Cellar/python/3.7.1/Frameworks/Python.framework/Versions/3.7/lib/python3.7/zipfile.py:1470: UserWarning: Duplicate name: 'image/575.jpeg'\n",
      "  return self._open_to_write(zinfo, force_zip64=force_zip64)\n",
      "/usr/local/Cellar/python/3.7.1/Frameworks/Python.framework/Versions/3.7/lib/python3.7/zipfile.py:1470: UserWarning: Duplicate name: 'image/589.jpeg'\n",
      "  return self._open_to_write(zinfo, force_zip64=force_zip64)\n",
      "/usr/local/Cellar/python/3.7.1/Frameworks/Python.framework/Versions/3.7/lib/python3.7/zipfile.py:1470: UserWarning: Duplicate name: 'image/607.jpeg'\n",
      "  return self._open_to_write(zinfo, force_zip64=force_zip64)\n",
      "/usr/local/Cellar/python/3.7.1/Frameworks/Python.framework/Versions/3.7/lib/python3.7/zipfile.py:1470: UserWarning: Duplicate name: 'image/499.jpeg'\n",
      "  return self._open_to_write(zinfo, force_zip64=force_zip64)\n",
      "/usr/local/Cellar/python/3.7.1/Frameworks/Python.framework/Versions/3.7/lib/python3.7/zipfile.py:1470: UserWarning: Duplicate name: 'image/714.jpeg'\n",
      "  return self._open_to_write(zinfo, force_zip64=force_zip64)\n",
      "/usr/local/Cellar/python/3.7.1/Frameworks/Python.framework/Versions/3.7/lib/python3.7/zipfile.py:1470: UserWarning: Duplicate name: 'image/535.jpeg'\n",
      "  return self._open_to_write(zinfo, force_zip64=force_zip64)\n",
      "/usr/local/Cellar/python/3.7.1/Frameworks/Python.framework/Versions/3.7/lib/python3.7/zipfile.py:1470: UserWarning: Duplicate name: 'image/728.jpeg'\n",
      "  return self._open_to_write(zinfo, force_zip64=force_zip64)\n",
      "/usr/local/Cellar/python/3.7.1/Frameworks/Python.framework/Versions/3.7/lib/python3.7/zipfile.py:1470: UserWarning: Duplicate name: 'image/736.jpeg'\n",
      "  return self._open_to_write(zinfo, force_zip64=force_zip64)\n",
      "/usr/local/Cellar/python/3.7.1/Frameworks/Python.framework/Versions/3.7/lib/python3.7/zipfile.py:1470: UserWarning: Duplicate name: 'image/748.jpeg'\n",
      "  return self._open_to_write(zinfo, force_zip64=force_zip64)\n",
      "/usr/local/Cellar/python/3.7.1/Frameworks/Python.framework/Versions/3.7/lib/python3.7/zipfile.py:1470: UserWarning: Duplicate name: 'image/618.jpeg'\n",
      "  return self._open_to_write(zinfo, force_zip64=force_zip64)\n",
      "/usr/local/Cellar/python/3.7.1/Frameworks/Python.framework/Versions/3.7/lib/python3.7/zipfile.py:1470: UserWarning: Duplicate name: 'image/573.jpeg'\n",
      "  return self._open_to_write(zinfo, force_zip64=force_zip64)\n",
      "/usr/local/Cellar/python/3.7.1/Frameworks/Python.framework/Versions/3.7/lib/python3.7/zipfile.py:1470: UserWarning: Duplicate name: 'image/508.jpeg'\n",
      "  return self._open_to_write(zinfo, force_zip64=force_zip64)\n",
      "/usr/local/Cellar/python/3.7.1/Frameworks/Python.framework/Versions/3.7/lib/python3.7/zipfile.py:1470: UserWarning: Duplicate name: 'image/781.jpeg'\n",
      "  return self._open_to_write(zinfo, force_zip64=force_zip64)\n",
      "/usr/local/Cellar/python/3.7.1/Frameworks/Python.framework/Versions/3.7/lib/python3.7/zipfile.py:1470: UserWarning: Duplicate name: 'image/764.jpeg'\n",
      "  return self._open_to_write(zinfo, force_zip64=force_zip64)\n",
      "/usr/local/Cellar/python/3.7.1/Frameworks/Python.framework/Versions/3.7/lib/python3.7/zipfile.py:1470: UserWarning: Duplicate name: 'image/785.jpeg'\n",
      "  return self._open_to_write(zinfo, force_zip64=force_zip64)\n",
      "/usr/local/Cellar/python/3.7.1/Frameworks/Python.framework/Versions/3.7/lib/python3.7/zipfile.py:1470: UserWarning: Duplicate name: 'image/648.jpeg'\n",
      "  return self._open_to_write(zinfo, force_zip64=force_zip64)\n",
      "/usr/local/Cellar/python/3.7.1/Frameworks/Python.framework/Versions/3.7/lib/python3.7/zipfile.py:1470: UserWarning: Duplicate name: 'image/776.jpeg'\n",
      "  return self._open_to_write(zinfo, force_zip64=force_zip64)\n",
      "/usr/local/Cellar/python/3.7.1/Frameworks/Python.framework/Versions/3.7/lib/python3.7/zipfile.py:1470: UserWarning: Duplicate name: 'image/818.jpeg'\n",
      "  return self._open_to_write(zinfo, force_zip64=force_zip64)\n",
      "/usr/local/Cellar/python/3.7.1/Frameworks/Python.framework/Versions/3.7/lib/python3.7/zipfile.py:1470: UserWarning: Duplicate name: 'image/866.jpeg'\n",
      "  return self._open_to_write(zinfo, force_zip64=force_zip64)\n",
      "/usr/local/Cellar/python/3.7.1/Frameworks/Python.framework/Versions/3.7/lib/python3.7/zipfile.py:1470: UserWarning: Duplicate name: 'image/813.jpeg'\n",
      "  return self._open_to_write(zinfo, force_zip64=force_zip64)\n",
      "/usr/local/Cellar/python/3.7.1/Frameworks/Python.framework/Versions/3.7/lib/python3.7/zipfile.py:1470: UserWarning: Duplicate name: 'image/875.jpeg'\n",
      "  return self._open_to_write(zinfo, force_zip64=force_zip64)\n"
     ]
    },
    {
     "name": "stderr",
     "output_type": "stream",
     "text": [
      "/usr/local/Cellar/python/3.7.1/Frameworks/Python.framework/Versions/3.7/lib/python3.7/zipfile.py:1470: UserWarning: Duplicate name: 'image/758.jpeg'\n",
      "  return self._open_to_write(zinfo, force_zip64=force_zip64)\n",
      "/usr/local/Cellar/python/3.7.1/Frameworks/Python.framework/Versions/3.7/lib/python3.7/zipfile.py:1470: UserWarning: Duplicate name: 'image/907.jpeg'\n",
      "  return self._open_to_write(zinfo, force_zip64=force_zip64)\n",
      "/usr/local/Cellar/python/3.7.1/Frameworks/Python.framework/Versions/3.7/lib/python3.7/zipfile.py:1470: UserWarning: Duplicate name: 'image/920.jpeg'\n",
      "  return self._open_to_write(zinfo, force_zip64=force_zip64)\n",
      "/usr/local/Cellar/python/3.7.1/Frameworks/Python.framework/Versions/3.7/lib/python3.7/zipfile.py:1470: UserWarning: Duplicate name: 'image/816.jpeg'\n",
      "  return self._open_to_write(zinfo, force_zip64=force_zip64)\n",
      "/usr/local/Cellar/python/3.7.1/Frameworks/Python.framework/Versions/3.7/lib/python3.7/zipfile.py:1470: UserWarning: Duplicate name: 'image/934.jpeg'\n",
      "  return self._open_to_write(zinfo, force_zip64=force_zip64)\n",
      "/usr/local/Cellar/python/3.7.1/Frameworks/Python.framework/Versions/3.7/lib/python3.7/zipfile.py:1470: UserWarning: Duplicate name: 'image/958.jpeg'\n",
      "  return self._open_to_write(zinfo, force_zip64=force_zip64)\n",
      "/usr/local/Cellar/python/3.7.1/Frameworks/Python.framework/Versions/3.7/lib/python3.7/zipfile.py:1470: UserWarning: Duplicate name: 'image/969.jpeg'\n",
      "  return self._open_to_write(zinfo, force_zip64=force_zip64)\n",
      "/usr/local/Cellar/python/3.7.1/Frameworks/Python.framework/Versions/3.7/lib/python3.7/zipfile.py:1470: UserWarning: Duplicate name: 'image/960.jpeg'\n",
      "  return self._open_to_write(zinfo, force_zip64=force_zip64)\n",
      "/usr/local/Cellar/python/3.7.1/Frameworks/Python.framework/Versions/3.7/lib/python3.7/zipfile.py:1470: UserWarning: Duplicate name: 'image/1065.jpeg'\n",
      "  return self._open_to_write(zinfo, force_zip64=force_zip64)\n",
      "/usr/local/Cellar/python/3.7.1/Frameworks/Python.framework/Versions/3.7/lib/python3.7/zipfile.py:1470: UserWarning: Duplicate name: 'image/631.jpeg'\n",
      "  return self._open_to_write(zinfo, force_zip64=force_zip64)\n",
      "/usr/local/Cellar/python/3.7.1/Frameworks/Python.framework/Versions/3.7/lib/python3.7/zipfile.py:1470: UserWarning: Duplicate name: 'image/1025.jpeg'\n",
      "  return self._open_to_write(zinfo, force_zip64=force_zip64)\n",
      "/usr/local/Cellar/python/3.7.1/Frameworks/Python.framework/Versions/3.7/lib/python3.7/zipfile.py:1470: UserWarning: Duplicate name: 'image/959.jpeg'\n",
      "  return self._open_to_write(zinfo, force_zip64=force_zip64)\n",
      "/usr/local/Cellar/python/3.7.1/Frameworks/Python.framework/Versions/3.7/lib/python3.7/zipfile.py:1470: UserWarning: Duplicate name: 'image/1152.jpeg'\n",
      "  return self._open_to_write(zinfo, force_zip64=force_zip64)\n",
      "/usr/local/Cellar/python/3.7.1/Frameworks/Python.framework/Versions/3.7/lib/python3.7/zipfile.py:1470: UserWarning: Duplicate name: 'image/1248.jpeg'\n",
      "  return self._open_to_write(zinfo, force_zip64=force_zip64)\n",
      "/usr/local/Cellar/python/3.7.1/Frameworks/Python.framework/Versions/3.7/lib/python3.7/zipfile.py:1470: UserWarning: Duplicate name: 'image/1008.jpeg'\n",
      "  return self._open_to_write(zinfo, force_zip64=force_zip64)\n",
      "/usr/local/Cellar/python/3.7.1/Frameworks/Python.framework/Versions/3.7/lib/python3.7/zipfile.py:1470: UserWarning: Duplicate name: 'image/1134.jpeg'\n",
      "  return self._open_to_write(zinfo, force_zip64=force_zip64)\n",
      "/usr/local/Cellar/python/3.7.1/Frameworks/Python.framework/Versions/3.7/lib/python3.7/zipfile.py:1470: UserWarning: Duplicate name: 'image/1185.jpeg'\n",
      "  return self._open_to_write(zinfo, force_zip64=force_zip64)\n",
      "/usr/local/Cellar/python/3.7.1/Frameworks/Python.framework/Versions/3.7/lib/python3.7/zipfile.py:1470: UserWarning: Duplicate name: 'image/1235.jpeg'\n",
      "  return self._open_to_write(zinfo, force_zip64=force_zip64)\n",
      "/usr/local/Cellar/python/3.7.1/Frameworks/Python.framework/Versions/3.7/lib/python3.7/zipfile.py:1470: UserWarning: Duplicate name: 'image/1277.jpeg'\n",
      "  return self._open_to_write(zinfo, force_zip64=force_zip64)\n",
      "/usr/local/Cellar/python/3.7.1/Frameworks/Python.framework/Versions/3.7/lib/python3.7/zipfile.py:1470: UserWarning: Duplicate name: 'image/1310.jpeg'\n",
      "  return self._open_to_write(zinfo, force_zip64=force_zip64)\n",
      "/usr/local/Cellar/python/3.7.1/Frameworks/Python.framework/Versions/3.7/lib/python3.7/zipfile.py:1470: UserWarning: Duplicate name: 'image/1336.jpeg'\n",
      "  return self._open_to_write(zinfo, force_zip64=force_zip64)\n",
      "/usr/local/Cellar/python/3.7.1/Frameworks/Python.framework/Versions/3.7/lib/python3.7/zipfile.py:1470: UserWarning: Duplicate name: 'image/1355.jpeg'\n",
      "  return self._open_to_write(zinfo, force_zip64=force_zip64)\n",
      "/usr/local/Cellar/python/3.7.1/Frameworks/Python.framework/Versions/3.7/lib/python3.7/zipfile.py:1470: UserWarning: Duplicate name: 'image/1399.jpeg'\n",
      "  return self._open_to_write(zinfo, force_zip64=force_zip64)\n",
      "/usr/local/Cellar/python/3.7.1/Frameworks/Python.framework/Versions/3.7/lib/python3.7/zipfile.py:1470: UserWarning: Duplicate name: 'image/1366.jpeg'\n",
      "  return self._open_to_write(zinfo, force_zip64=force_zip64)\n",
      "/usr/local/Cellar/python/3.7.1/Frameworks/Python.framework/Versions/3.7/lib/python3.7/zipfile.py:1470: UserWarning: Duplicate name: 'image/1308.jpeg'\n",
      "  return self._open_to_write(zinfo, force_zip64=force_zip64)\n",
      "/usr/local/Cellar/python/3.7.1/Frameworks/Python.framework/Versions/3.7/lib/python3.7/zipfile.py:1470: UserWarning: Duplicate name: 'image/1392.jpeg'\n",
      "  return self._open_to_write(zinfo, force_zip64=force_zip64)\n",
      "/usr/local/Cellar/python/3.7.1/Frameworks/Python.framework/Versions/3.7/lib/python3.7/zipfile.py:1470: UserWarning: Duplicate name: 'image/1500.jpeg'\n",
      "  return self._open_to_write(zinfo, force_zip64=force_zip64)\n",
      "/usr/local/Cellar/python/3.7.1/Frameworks/Python.framework/Versions/3.7/lib/python3.7/zipfile.py:1470: UserWarning: Duplicate name: 'image/1437.jpeg'\n",
      "  return self._open_to_write(zinfo, force_zip64=force_zip64)\n",
      "/usr/local/Cellar/python/3.7.1/Frameworks/Python.framework/Versions/3.7/lib/python3.7/zipfile.py:1470: UserWarning: Duplicate name: 'image/1497.jpeg'\n",
      "  return self._open_to_write(zinfo, force_zip64=force_zip64)\n",
      "/usr/local/Cellar/python/3.7.1/Frameworks/Python.framework/Versions/3.7/lib/python3.7/zipfile.py:1470: UserWarning: Duplicate name: 'image/784.jpeg'\n",
      "  return self._open_to_write(zinfo, force_zip64=force_zip64)\n",
      "/usr/local/Cellar/python/3.7.1/Frameworks/Python.framework/Versions/3.7/lib/python3.7/zipfile.py:1470: UserWarning: Duplicate name: 'image/1431.jpeg'\n",
      "  return self._open_to_write(zinfo, force_zip64=force_zip64)\n",
      "/usr/local/Cellar/python/3.7.1/Frameworks/Python.framework/Versions/3.7/lib/python3.7/zipfile.py:1470: UserWarning: Duplicate name: 'image/1229.jpeg'\n",
      "  return self._open_to_write(zinfo, force_zip64=force_zip64)\n",
      "/usr/local/Cellar/python/3.7.1/Frameworks/Python.framework/Versions/3.7/lib/python3.7/zipfile.py:1470: UserWarning: Duplicate name: 'image/627.jpeg'\n",
      "  return self._open_to_write(zinfo, force_zip64=force_zip64)\n",
      "/usr/local/Cellar/python/3.7.1/Frameworks/Python.framework/Versions/3.7/lib/python3.7/zipfile.py:1470: UserWarning: Duplicate name: 'image/1339.jpeg'\n",
      "  return self._open_to_write(zinfo, force_zip64=force_zip64)\n"
     ]
    }
   ],
   "source": [
    "image_processor = functools.partial(sidekick.process_image, mode='crop_and_resize', size=(224, 224), file_format='jpeg')\n",
    "sidekick.create_dataset(\n",
    "    output_path,\n",
    "    df,\n",
    "    path_columns=['image'],\n",
    "    preprocess={\n",
    "        'image': image_processor\n",
    "    }\n",
    ")\n",
    "# The duplicated images in the upsampled class will cause warnings"
   ]
  }
 ],
 "metadata": {
  "kernelspec": {
   "display_name": "Python 3",
   "language": "python",
   "name": "python3"
  },
  "language_info": {
   "codemirror_mode": {
    "name": "ipython",
    "version": 3
   },
   "file_extension": ".py",
   "mimetype": "text/x-python",
   "name": "python",
   "nbconvert_exporter": "python",
   "pygments_lexer": "ipython3",
   "version": "3.7.1"
  }
 },
 "nbformat": 4,
 "nbformat_minor": 2
}
